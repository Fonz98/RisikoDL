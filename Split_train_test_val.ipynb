{
  "nbformat": 4,
  "nbformat_minor": 0,
  "metadata": {
    "colab": {
      "provenance": []
    },
    "kernelspec": {
      "name": "python3",
      "display_name": "Python 3"
    },
    "language_info": {
      "name": "python"
    }
  },
  "cells": [
    {
      "cell_type": "markdown",
      "source": [
        "Mount the drive folder containing all required files"
      ],
      "metadata": {
        "id": "NkeAhZTCb_oK"
      }
    },
    {
      "cell_type": "code",
      "source": [
        "# mount the drive\n",
        "from google.colab import drive\n",
        "drive.mount('/content/drive', force_remount=True)\n",
        "# access the folder containing the files required to run the project\n",
        "%cd /content/drive/My Drive/Colab environments/Risiko! DL/\n",
        "# check that we are in the desired folder and that all required files are present\n",
        "%ls"
      ],
      "metadata": {
        "id": "KOJ1inr0b-yj",
        "colab": {
          "base_uri": "https://localhost:8080/"
        },
        "outputId": "01941035-ae3e-4ca6-9ea1-45e440cb9a1d"
      },
      "execution_count": 3,
      "outputs": [
        {
          "output_type": "stream",
          "name": "stdout",
          "text": [
            "Mounted at /content/drive\n",
            "/content/drive/My Drive/Colab environments/Risiko! DL\n",
            " \u001b[0m\u001b[01;34m3D_models\u001b[0m/             'Risiko!_Synthetic_Dataset_Creator.ipynb'\n",
            " \u001b[01;34mbackgrounds\u001b[0m/           'Risiko! Test.ipynb'\n",
            " coco_risiko.yaml        Split_train_test_val.ipynb\n",
            " image_detection.ipynb   \u001b[01;34msynthetic_dataset\u001b[0m/\n",
            " \u001b[01;34mpre_trained_weights\u001b[0m/    \u001b[01;34msynthetic_images\u001b[0m/\n",
            " \u001b[01;34mreal_images\u001b[0m/            test_example.txt\n"
          ]
        }
      ]
    },
    {
      "cell_type": "markdown",
      "source": [
        "Import required libraries\n"
      ],
      "metadata": {
        "id": "6mMg01vFcIzR"
      }
    },
    {
      "cell_type": "code",
      "source": [
        "import os\n",
        "import cv2\n",
        "import numpy as np\n",
        "from sklearn.model_selection import train_test_split\n",
        "import shutil"
      ],
      "metadata": {
        "id": "Wpud9tJYcGD1"
      },
      "execution_count": 4,
      "outputs": []
    },
    {
      "cell_type": "markdown",
      "source": [
        "## Creation of the folders that will contain the split dataset\n",
        "We decided to create three folders:\n",
        "- train\n",
        "- validation\n",
        "- test\n",
        "\n",
        "Each folder then contains two subfolders:\n",
        "- real\n",
        "- synthetic\n",
        "\n",
        "Each of the two above subfolders then contains two folders:\n",
        "- images\n",
        "- labels"
      ],
      "metadata": {
        "id": "RLhvoVa6OQse"
      }
    },
    {
      "cell_type": "code",
      "source": [
        "# name of the folder containing the datasets (train, validation, test)\n",
        "datasets_folder = \"datasets\"\n",
        "\n",
        "# path from the current position to the folder containing the datasets\n",
        "datasets_folder_path = os.path.join(os.getcwd(), datasets_folder)\n",
        "\n",
        "# names of the datasets\n",
        "datasets_names = [\"train\", \"validation\", \"test\"]\n",
        "\n",
        "# names of the subfolders of each dataset folder\n",
        "synthetic_real_names = [\"synthetic\", \"real\"]\n",
        "\n",
        "# names of the subfolders of each of the above subfolder\n",
        "images_labels_names = [\"images\", \"labels\"]\n",
        "\n",
        "# check if the folders containing the datasets exist, otherwise create them all\n",
        "if not os.path.isdir(datasets_folder):\n",
        "    os.mkdir(datasets_folder)\n",
        "    print(f\"created folder {datasets_folder}\")\n",
        "\n",
        "    # paths for the datasets folders inside datasets \n",
        "    train_validation_test = []\n",
        "    # paths for the subfolders of each dataset folder\n",
        "    synthetic_real = []\n",
        "    # paths for the subfolders of each subfolder\n",
        "    images_labels = []\n",
        "\n",
        "    # create each dataset folder (train, validation, test) with its subfolders (images, labels)\n",
        "    for name in datasets_names:\n",
        "        path = os.path.join(datasets_folder_path, name)\n",
        "        train_validation_test.append(path)\n",
        "        os.mkdir(path)\n",
        "        print(f\"created folder {path}\")\n",
        "        # for each created dataset folder, create its subfolders (synthetic, real)\n",
        "        for sub_dir in synthetic_real_names:\n",
        "            sub_path = os.path.join(path, sub_dir)\n",
        "            synthetic_real.append(sub_path)\n",
        "            os.mkdir(sub_path)\n",
        "            print(f\"created folder {sub_path}\")\n",
        "            # for each created subfolder, create its subfolders (images, labels)\n",
        "            for sub_sub_dir in images_labels_names:\n",
        "                sub_sub_path = os.path.join(sub_path, sub_sub_dir)\n",
        "                images_labels.append(sub_sub_path)\n",
        "                os.mkdir(sub_sub_path)\n",
        "                print(f\"created folder {sub_sub_path}\")"
      ],
      "metadata": {
        "id": "x04myfudOVw-",
        "colab": {
          "base_uri": "https://localhost:8080/"
        },
        "outputId": "1313220c-8e50-4cfd-ea49-8bb95985bd2a"
      },
      "execution_count": 5,
      "outputs": [
        {
          "output_type": "stream",
          "name": "stdout",
          "text": [
            "created folder datasets\n",
            "created folder /content/drive/My Drive/Colab environments/Risiko! DL/datasets/train\n",
            "created folder /content/drive/My Drive/Colab environments/Risiko! DL/datasets/train/synthetic\n",
            "created folder /content/drive/My Drive/Colab environments/Risiko! DL/datasets/train/synthetic/images\n",
            "created folder /content/drive/My Drive/Colab environments/Risiko! DL/datasets/train/synthetic/labels\n",
            "created folder /content/drive/My Drive/Colab environments/Risiko! DL/datasets/train/real\n",
            "created folder /content/drive/My Drive/Colab environments/Risiko! DL/datasets/train/real/images\n",
            "created folder /content/drive/My Drive/Colab environments/Risiko! DL/datasets/train/real/labels\n",
            "created folder /content/drive/My Drive/Colab environments/Risiko! DL/datasets/validation\n",
            "created folder /content/drive/My Drive/Colab environments/Risiko! DL/datasets/validation/synthetic\n",
            "created folder /content/drive/My Drive/Colab environments/Risiko! DL/datasets/validation/synthetic/images\n",
            "created folder /content/drive/My Drive/Colab environments/Risiko! DL/datasets/validation/synthetic/labels\n",
            "created folder /content/drive/My Drive/Colab environments/Risiko! DL/datasets/validation/real\n",
            "created folder /content/drive/My Drive/Colab environments/Risiko! DL/datasets/validation/real/images\n",
            "created folder /content/drive/My Drive/Colab environments/Risiko! DL/datasets/validation/real/labels\n",
            "created folder /content/drive/My Drive/Colab environments/Risiko! DL/datasets/test\n",
            "created folder /content/drive/My Drive/Colab environments/Risiko! DL/datasets/test/synthetic\n",
            "created folder /content/drive/My Drive/Colab environments/Risiko! DL/datasets/test/synthetic/images\n",
            "created folder /content/drive/My Drive/Colab environments/Risiko! DL/datasets/test/synthetic/labels\n",
            "created folder /content/drive/My Drive/Colab environments/Risiko! DL/datasets/test/real\n",
            "created folder /content/drive/My Drive/Colab environments/Risiko! DL/datasets/test/real/images\n",
            "created folder /content/drive/My Drive/Colab environments/Risiko! DL/datasets/test/real/labels\n"
          ]
        }
      ]
    },
    {
      "cell_type": "markdown",
      "source": [
        "## Save the names of the images\n",
        "We load the names of the images in the three folders:\n",
        "- synthetic_images\n",
        "- synthetic_dataset\n",
        "- real_images"
      ],
      "metadata": {
        "id": "_R2Y4bjMYCjX"
      }
    },
    {
      "cell_type": "code",
      "source": [
        "# load images names in the synthetic_images folder\n",
        "synthetic_images_names = []\n",
        "synthetic_images_path = os.path.join(os.getcwd(), \"synthetic_images\", \"images\")\n",
        "\n",
        "for file_name in os.listdir(synthetic_images_path):\n",
        "    if file_name.endswith(\".jpg\"):\n",
        "        synthetic_images_names.append(file_name[:-4]) # remove .jpg extension\n",
        "\n",
        "# load images names in the synthetic_dataset folder\n",
        "synthetic_dataset_names = []\n",
        "synthetic_dataset_path = os.path.join(os.getcwd(), \"synthetic_dataset\", \"images\")\n",
        "\n",
        "for file_name in os.listdir(synthetic_dataset_path):\n",
        "    if file_name.endswith(\".jpg\"):\n",
        "        synthetic_dataset_names.append(file_name[:-4]) # remove .jpg extension\n",
        "\n",
        "# load images names in the real_images folder\n",
        "real_images_names = []\n",
        "real_images_path = os.path.join(os.getcwd(), \"real_images\", \"images\")\n",
        "\n",
        "for file_name in os.listdir(real_images_path):\n",
        "    if file_name.endswith(\".jpg\"):\n",
        "        real_images_names.append(file_name[:-4]) # remove .jpg extension"
      ],
      "metadata": {
        "id": "wEYv3WMVqsIO"
      },
      "execution_count": 6,
      "outputs": []
    },
    {
      "cell_type": "markdown",
      "source": [
        "## Clean dataset: remove unlabeled images\n",
        "If there are images in our datasets that are not labeled, we remove them."
      ],
      "metadata": {
        "id": "fi_4FcjKS1Lk"
      }
    },
    {
      "cell_type": "code",
      "source": [
        "# The function checks if each image in $images_path_dir has a corresponding label in $labels_path_dir. \n",
        "# If this is not the case, the given image is removed from $images_path_dir\n",
        "# $names_list contains the names of the images (that are equal to the names of the labels) without extension\n",
        "# $images_path_dir is the path to the directory containing the images\n",
        "# $labels_path_dir is the path to the directory containing the labeles of the images\n",
        "# return $True if some image has been removed, $False otherwise\n",
        "def removeUnlabeledImages(names_list, images_path_dir, labels_path_dir):\n",
        "    # image removed flag\n",
        "    removed = False\n",
        "    # check each name\n",
        "    for name in names_list:\n",
        "        # name of the label\n",
        "        label_name = name + \".txt\"\n",
        "        # path to the label\n",
        "        label_path = os.path.join(labels_path_dir, label_name)\n",
        "        # check if the corresponding label exists\n",
        "        if not os.path.exists(label_path):\n",
        "            # name of the image\n",
        "            image_name = name + \".jpg\"\n",
        "            # path to the corresponding image\n",
        "            image_path = os.path.join(images_path_dir, image_name)\n",
        "            # remove the image\n",
        "            os.remove(image_path)\n",
        "            removed = True\n",
        "\n",
        "    return removed\n"
      ],
      "metadata": {
        "id": "I4aiLiGbTmTw"
      },
      "execution_count": 7,
      "outputs": []
    },
    {
      "cell_type": "code",
      "source": [
        "# $synthetic_dataset_names\n",
        "dataset_folder = \"synthetic_dataset\"\n",
        "images_path_dir = os.path.join(os.getcwd(), dataset_folder, \"images\")\n",
        "labels_path_dir = os.path.join(os.getcwd(), dataset_folder, \"labels\")\n",
        "removeUnlabeledImages(synthetic_dataset_names, images_path_dir, labels_path_dir)\n",
        "\n",
        "# $synthetic_images_names\n",
        "dataset_folder = \"synthetic_images\"\n",
        "images_path_dir = os.path.join(os.getcwd(), dataset_folder, \"images\")\n",
        "labels_path_dir = os.path.join(os.getcwd(), dataset_folder, \"labels\")\n",
        "removeUnlabeledImages(synthetic_images_names, images_path_dir, labels_path_dir)\n",
        "\n",
        "# $real_images_names\n",
        "dataset_folder = \"real_images\"\n",
        "images_path_dir = os.path.join(os.getcwd(), dataset_folder, \"images\")\n",
        "labels_path_dir = os.path.join(os.getcwd(), dataset_folder, \"labels\")\n",
        "removeUnlabeledImages(real_images_names, images_path_dir, labels_path_dir)"
      ],
      "metadata": {
        "colab": {
          "base_uri": "https://localhost:8080/"
        },
        "id": "BSyiTXnDX79w",
        "outputId": "5ec96912-8325-46ad-884b-dbad1fb2978b"
      },
      "execution_count": 8,
      "outputs": [
        {
          "output_type": "execute_result",
          "data": {
            "text/plain": [
              "True"
            ]
          },
          "metadata": {},
          "execution_count": 8
        }
      ]
    },
    {
      "cell_type": "markdown",
      "source": [
        "## Lists split\n",
        "\n",
        "- The list $synthetic\\_dataset\\_names$ is split into:\n",
        "    - train 70%\n",
        "    - validation 15%\n",
        "    - test 15%\n",
        "- The list $synthetic\\_images\\_names$ is split into:\n",
        "    - train 70%\n",
        "    - validation 15%\n",
        "    - test 15%\n",
        "- The list $real\\_images\\_names$ is split into:\n",
        "    - train 70%\n",
        "    - test 30%"
      ],
      "metadata": {
        "id": "idpkpSaRo2FA"
      }
    },
    {
      "cell_type": "code",
      "source": [
        "# $synthetic_dataset\n",
        "train_synthetic_dataset, test_synthetic_dataset = train_test_split(synthetic_dataset_names, test_size=0.3, random_state=27)\n",
        "validation_synthetic_dataset, test_synthetic_dataset = train_test_split(test_synthetic_dataset, test_size=0.5, random_state=27)\n",
        "\n",
        "# $synthetic_images\n",
        "train_synthetic_images, test_synthetic_images = train_test_split(synthetic_images_names, test_size=0.3, random_state=27)\n",
        "validation_synthetic_images, test_synthetic_images = train_test_split(test_synthetic_images, test_size=0.5, random_state=27)\n",
        "\n",
        "# $real_images\n",
        "train_real_images, test_real_images = train_test_split(real_images_names, test_size=0.3, random_state=27)"
      ],
      "metadata": {
        "id": "hxxtnju0Zwhi"
      },
      "execution_count": 9,
      "outputs": []
    },
    {
      "cell_type": "markdown",
      "source": [
        "## Move images and labels according to the above splits"
      ],
      "metadata": {
        "id": "KJ27bkPCsJU3"
      }
    },
    {
      "cell_type": "code",
      "source": [
        "# $list_filenames contains a list of names of files without extension\n",
        "# the extension to be added to each filename in $list_filenames can only be .txt either .jpg\n",
        "# $source_dir_path is the path to the directory containing the files to be copied\n",
        "# $dest_dir_path is the path to the directory where the files have to be copied\n",
        "# $is_image is True if $list_filenames contains names of images with .jpg extension to be added\n",
        "# $is_image is False if $list_filenames contains names of text files with .txt extension to be added\n",
        "def copyFileList(list_filenames, source_dir_path, dest_dir_path, is_image=True):   \n",
        "    for file_name in list_filenames:\n",
        "        source_file_name = os.path.join(source_dir_path, file_name)\n",
        "        dest_file_name = os.path.join(dest_dir_path, file_name)\n",
        "        if is_image:\n",
        "            source_file_name = source_file_name + \".jpg\"\n",
        "            dest_file_name = dest_file_name + \".jpg\"\n",
        "        else:\n",
        "            source_file_name = source_file_name + \".txt\"\n",
        "            dest_file_name = dest_file_name + \".txt\"\n",
        "        shutil.copy(source_file_name, dest_file_name)"
      ],
      "metadata": {
        "id": "QaT-ewAmxXfO"
      },
      "execution_count": 10,
      "outputs": []
    },
    {
      "cell_type": "markdown",
      "source": [
        "#### $synthetic\\_dataset$\n",
        "Fill the train\\\\synthetic, validation\\\\synthetic, test\\\\synthetic folders with images and labels which names are in the $synthetic\\_dataset$ list."
      ],
      "metadata": {
        "id": "eB9g5iO22GhJ"
      }
    },
    {
      "cell_type": "code",
      "source": [
        "# source path: synthetic_dataset folder\n",
        "source_path_synthetic_dataset = os.path.join(os.getcwd(), \"synthetic_dataset\")\n",
        "source_path_synthetic_dataset_images = os.path.join(source_path_synthetic_dataset, \"images\")\n",
        "source_path_synthetic_dataset_labels = os.path.join(source_path_synthetic_dataset, \"labels\")\n",
        "\n",
        "# TRAIN\\SYNTHETIC\n",
        "\n",
        "# destination folder inside train\n",
        "dest_train_path_synthetic = os.path.join(os.getcwd(), \"datasets\", \"train\", \"synthetic\")\n",
        "\n",
        "# $train_synthetic_dataset: images copy\n",
        "dest_train_path_synthetic_images = os.path.join(dest_train_path_synthetic, \"images\")\n",
        "copyFileList(train_synthetic_dataset, source_path_synthetic_dataset_images, dest_train_path_synthetic_images, is_image=True)\n",
        "\n",
        "# $train_synthetic_dataset: labels copy\n",
        "dest_train_path_synthetic_labels = os.path.join(dest_train_path_synthetic, \"labels\")\n",
        "copyFileList(train_synthetic_dataset, source_path_synthetic_dataset_labels, dest_train_path_synthetic_labels, is_image=False)\n",
        "\n",
        "# VALIDATION\\SYNTHETIC\n",
        "\n",
        "# destination folder inside validation\n",
        "dest_validation_path_synthetic = os.path.join(os.getcwd(), \"datasets\", \"validation\", \"synthetic\")\n",
        "\n",
        "# $validation_synthetic_dataset: images copy\n",
        "dest_validation_path_synthetic_images = os.path.join(dest_validation_path_synthetic, \"images\")\n",
        "copyFileList(validation_synthetic_dataset, source_path_synthetic_dataset_images, dest_validation_path_synthetic_images, is_image=True)\n",
        "\n",
        "# $validation_synthetic_dataset: labels copy\n",
        "dest_validation_path_synthetic_labels = os.path.join(dest_validation_path_synthetic, \"labels\")\n",
        "copyFileList(validation_synthetic_dataset, source_path_synthetic_dataset_labels, dest_validation_path_synthetic_labels, is_image=False)\n",
        "\n",
        "# TEST\\SYNTHETIC\n",
        "\n",
        "# destination folder inside test\n",
        "dest_test_path_synthetic = os.path.join(os.getcwd(), \"datasets\", \"test\", \"synthetic\")\n",
        "\n",
        "# $test_synthetic_dataset: images copy\n",
        "dest_test_path_synthetic_images = os.path.join(dest_test_path_synthetic, \"images\")\n",
        "copyFileList(test_synthetic_dataset, source_path_synthetic_dataset_images, dest_test_path_synthetic_images, is_image=True)\n",
        "\n",
        "# $test_synthetic_dataset: labels copy\n",
        "dest_test_path_synthetic_labels = os.path.join(dest_test_path_synthetic, \"labels\")\n",
        "copyFileList(test_synthetic_dataset, source_path_synthetic_dataset_labels, dest_test_path_synthetic_labels, is_image=False)"
      ],
      "metadata": {
        "id": "WsjC4mHAsSA5"
      },
      "execution_count": 11,
      "outputs": []
    },
    {
      "cell_type": "markdown",
      "source": [
        "#### $synthetic\\_images$\n",
        "Fill the train\\\\synthetic, validation\\\\synthetic, test\\\\synthetic folders with images and labels which names are in the $synthetic\\_images$ list."
      ],
      "metadata": {
        "id": "dxy50MEP7DzI"
      }
    },
    {
      "cell_type": "code",
      "source": [
        "# source path: synthetic_images folder\n",
        "source_path_synthetic_images = os.path.join(os.getcwd(), \"synthetic_images\")\n",
        "source_path_synthetic_images_images = os.path.join(source_path_synthetic_images, \"images\")\n",
        "source_path_synthetic_images_labels = os.path.join(source_path_synthetic_images, \"labels\")\n",
        "\n",
        "# TRAIN\\SYNTHETIC\n",
        "\n",
        "# destination folder inside train\n",
        "dest_train_path_synthetic = os.path.join(os.getcwd(), \"datasets\", \"train\", \"synthetic\")\n",
        "\n",
        "# $train_synthetic_images: images copy\n",
        "dest_train_path_synthetic_images = os.path.join(dest_train_path_synthetic, \"images\")\n",
        "copyFileList(train_synthetic_images, source_path_synthetic_images_images, dest_train_path_synthetic_images, is_image=True)\n",
        "\n",
        "# $train_synthetic_images: labels copy\n",
        "dest_train_path_synthetic_labels = os.path.join(dest_train_path_synthetic, \"labels\")\n",
        "copyFileList(train_synthetic_images, source_path_synthetic_images_labels, dest_train_path_synthetic_labels, is_image=False)\n",
        "\n",
        "# VALIDATION\\SYNTHETIC\n",
        "\n",
        "# destination folder inside validation\n",
        "dest_validation_path_synthetic = os.path.join(os.getcwd(), \"datasets\", \"validation\", \"synthetic\")\n",
        "\n",
        "# $validation_synthetic_images: images copy\n",
        "dest_validation_path_synthetic_images = os.path.join(dest_validation_path_synthetic, \"images\")\n",
        "copyFileList(validation_synthetic_images, source_path_synthetic_dataset_images, dest_validation_path_synthetic_images, is_image=True)\n",
        "\n",
        "# $validation_synthetic_images: labels copy\n",
        "dest_validation_path_synthetic_labels = os.path.join(dest_validation_path_synthetic, \"labels\")\n",
        "copyFileList(validation_synthetic_images, source_path_synthetic_images_labels, dest_validation_path_synthetic_labels, is_image=False)\n",
        "\n",
        "# TEST\\SYNTHETIC\n",
        "\n",
        "# destination folder inside test\n",
        "dest_test_path_synthetic = os.path.join(os.getcwd(), \"datasets\", \"test\", \"synthetic\")\n",
        "\n",
        "# $test_synthetic_images: images copy\n",
        "dest_test_path_synthetic_images = os.path.join(dest_test_path_synthetic, \"images\")\n",
        "copyFileList(test_synthetic_images, source_path_synthetic_images_images, dest_test_path_synthetic_images, is_image=True)\n",
        "\n",
        "# $test_synthetic_images: labels copy\n",
        "dest_test_path_synthetic_labels = os.path.join(dest_test_path_synthetic, \"labels\")\n",
        "copyFileList(test_synthetic_images, source_path_synthetic_images_labels, dest_test_path_synthetic_labels, is_image=False)"
      ],
      "metadata": {
        "id": "VaXPTZkA7Jrd"
      },
      "execution_count": null,
      "outputs": []
    },
    {
      "cell_type": "markdown",
      "source": [
        "#### $real\\_images$\n",
        "Fill the train\\\\real and test\\\\real folders with images and labels which names are in the $real\\_images$ list."
      ],
      "metadata": {
        "id": "P5eiDF1c8DAT"
      }
    },
    {
      "cell_type": "code",
      "source": [
        "# source path: real_images folder\n",
        "source_path_real_images = os.path.join(os.getcwd(), \"real_images\")\n",
        "source_path_real_images_images = os.path.join(source_path_real_images, \"images\")\n",
        "source_path_real_images_labels = os.path.join(source_path_real_images, \"labels\")\n",
        "\n",
        "# TRAIN\\REAL\n",
        "\n",
        "# destination folder inside train\n",
        "dest_train_path_real = os.path.join(os.getcwd(), \"datasets\", \"train\", \"real\")\n",
        "\n",
        "# $train_real_images: images copy\n",
        "dest_train_path_real_images = os.path.join(dest_train_path_real, \"images\")\n",
        "copyFileList(train_real_images, source_path_real_images_images, dest_train_path_real_images, is_image=True)\n",
        "\n",
        "# $train_real_images: labels copy\n",
        "dest_train_path_real_labels = os.path.join(dest_train_path_real, \"labels\")\n",
        "copyFileList(train_real_images, source_path_real_images_labels, dest_train_path_real_labels, is_image=False)\n",
        "\n",
        "# TEST\\REAL\n",
        "\n",
        "# destination folder inside test\n",
        "dest_test_path_real = os.path.join(os.getcwd(), \"datasets\", \"test\", \"real\")\n",
        "\n",
        "# $test_real_images: images copy\n",
        "dest_test_path_real_images = os.path.join(dest_test_path_real, \"images\")\n",
        "copyFileList(test_real_images, source_path_real_images_images, dest_test_path_real_images, is_image=True)\n",
        "\n",
        "# $test_real_images: labels copy\n",
        "dest_test_path_real_labels = os.path.join(dest_test_path_real, \"labels\")\n",
        "copyFileList(test_real_images, source_path_real_images_labels, dest_test_path_real_labels, is_image=False)"
      ],
      "metadata": {
        "collapsed": true,
        "id": "FgIG9sSc8DzE"
      },
      "execution_count": null,
      "outputs": []
    }
  ]
}