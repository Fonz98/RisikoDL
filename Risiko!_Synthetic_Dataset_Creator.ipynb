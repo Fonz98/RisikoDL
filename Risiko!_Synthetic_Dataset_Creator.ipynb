{
  "cells": [
    {
      "cell_type": "markdown",
      "id": "880f2960",
      "metadata": {
        "id": "880f2960"
      },
      "source": [
        "# <b>Deep Learning:</b> Risiko! Army detector\n",
        "\n",
        "---\n",
        "A.A. 2022/23 (6 CFU) - Dr. Daniel Fusaro Ph.D. Student\n",
        "\n",
        "---\n",
        "\n",
        "# Synthetic Dataset creator\n",
        "\n",
        "\n",
        "With this Jupyter Notebook you can:\n",
        " - load the 3D model (aka mesh) of either a tank or a flag\n",
        " - project it to a background image (some are an empty Risiko! board, some are downloaded from [https://www.microsoft.com/en-us/download/details.aspx?id=52644](https://www.microsoft.com/en-us/download/details.aspx?id=52644))\n",
        " - extracts the ground truth bounding box using some rendering information\n",
        " - stores to disk both the image full of armies and the labels information file\n",
        " - visualize the produced dataset\n",
        " \n",
        "You can (and should) play especially with the following parameters:\n",
        " - far_plane\n",
        " - max_tanks_in_image_num\n",
        " - max_flags_in_image_num\n",
        " - img_width, img_height\n",
        " - def generate_color (object_class)\n",
        "    - modify the hsv ranges if you think that the colors are not the best (ehm ehm)\n",
        " - background_folder_path\n",
        "    - you may add more background images or remove some\n",
        "\n",
        "---\n",
        "\n",
        " - Risiko! game official Wikipedia page -\n",
        "[https://en.wikipedia.org/wiki/RisiKo!](https://en.wikipedia.org/wiki/RisiKo!)\n",
        " - HSV color space - [https://it.wikipedia.org/wiki/Hue_Saturation_Brightness](https://it.wikipedia.org/wiki/Hue_Saturation_Brightness)\n",
        " - HSV color space online visualizer - [https://math.hws.edu/graphicsbook/demos/c2/rgb-hsv.html](https://math.hws.edu/graphicsbook/demos/c2/rgb-hsv.html)\n"
      ]
    },
    {
      "cell_type": "code",
      "execution_count": 1,
      "id": "jGImwPyq0E4h",
      "metadata": {
        "colab": {
          "base_uri": "https://localhost:8080/",
          "height": 1000
        },
        "id": "jGImwPyq0E4h",
        "outputId": "ac6449e1-c8aa-40a5-fb29-00380c847295"
      },
      "outputs": [
        {
          "output_type": "stream",
          "name": "stdout",
          "text": [
            "Looking in indexes: https://pypi.org/simple, https://us-python.pkg.dev/colab-wheels/public/simple/\n",
            "Collecting open3d\n",
            "  Downloading open3d-0.17.0-cp310-cp310-manylinux_2_27_x86_64.whl (420.5 MB)\n",
            "\u001b[2K     \u001b[90m━━━━━━━━━━━━━━━━━━━━━━━━━━━━━━━━━━━━━━━\u001b[0m \u001b[32m420.5/420.5 MB\u001b[0m \u001b[31m3.5 MB/s\u001b[0m eta \u001b[36m0:00:00\u001b[0m\n",
            "\u001b[?25hRequirement already satisfied: numpy>=1.18.0 in /usr/local/lib/python3.10/dist-packages (from open3d) (1.22.4)\n",
            "Collecting dash>=2.6.0 (from open3d)\n",
            "  Downloading dash-2.9.3-py3-none-any.whl (10.2 MB)\n",
            "\u001b[2K     \u001b[90m━━━━━━━━━━━━━━━━━━━━━━━━━━━━━━━━━━━━━━━━\u001b[0m \u001b[32m10.2/10.2 MB\u001b[0m \u001b[31m46.7 MB/s\u001b[0m eta \u001b[36m0:00:00\u001b[0m\n",
            "\u001b[?25hRequirement already satisfied: werkzeug>=2.2.3 in /usr/local/lib/python3.10/dist-packages (from open3d) (2.3.0)\n",
            "Collecting nbformat==5.7.0 (from open3d)\n",
            "  Downloading nbformat-5.7.0-py3-none-any.whl (77 kB)\n",
            "\u001b[2K     \u001b[90m━━━━━━━━━━━━━━━━━━━━━━━━━━━━━━━━━━━━━━━━\u001b[0m \u001b[32m77.1/77.1 kB\u001b[0m \u001b[31m4.2 MB/s\u001b[0m eta \u001b[36m0:00:00\u001b[0m\n",
            "\u001b[?25hCollecting configargparse (from open3d)\n",
            "  Downloading ConfigArgParse-1.5.3-py3-none-any.whl (20 kB)\n",
            "Collecting ipywidgets>=8.0.4 (from open3d)\n",
            "  Downloading ipywidgets-8.0.6-py3-none-any.whl (138 kB)\n",
            "\u001b[2K     \u001b[90m━━━━━━━━━━━━━━━━━━━━━━━━━━━━━━━━━━━━━━\u001b[0m \u001b[32m138.3/138.3 kB\u001b[0m \u001b[31m12.6 MB/s\u001b[0m eta \u001b[36m0:00:00\u001b[0m\n",
            "\u001b[?25hCollecting addict (from open3d)\n",
            "  Downloading addict-2.4.0-py3-none-any.whl (3.8 kB)\n",
            "Collecting pillow>=9.3.0 (from open3d)\n",
            "  Downloading Pillow-9.5.0-cp310-cp310-manylinux_2_28_x86_64.whl (3.4 MB)\n",
            "\u001b[2K     \u001b[90m━━━━━━━━━━━━━━━━━━━━━━━━━━━━━━━━━━━━━━━━\u001b[0m \u001b[32m3.4/3.4 MB\u001b[0m \u001b[31m94.3 MB/s\u001b[0m eta \u001b[36m0:00:00\u001b[0m\n",
            "\u001b[?25hRequirement already satisfied: matplotlib>=3 in /usr/local/lib/python3.10/dist-packages (from open3d) (3.7.1)\n",
            "Requirement already satisfied: pandas>=1.0 in /usr/local/lib/python3.10/dist-packages (from open3d) (1.5.3)\n",
            "Requirement already satisfied: pyyaml>=5.4.1 in /usr/local/lib/python3.10/dist-packages (from open3d) (6.0)\n",
            "Requirement already satisfied: scikit-learn>=0.21 in /usr/local/lib/python3.10/dist-packages (from open3d) (1.2.2)\n",
            "Requirement already satisfied: tqdm in /usr/local/lib/python3.10/dist-packages (from open3d) (4.65.0)\n",
            "Collecting pyquaternion (from open3d)\n",
            "  Downloading pyquaternion-0.9.9-py3-none-any.whl (14 kB)\n",
            "Requirement already satisfied: fastjsonschema in /usr/local/lib/python3.10/dist-packages (from nbformat==5.7.0->open3d) (2.16.3)\n",
            "Requirement already satisfied: jsonschema>=2.6 in /usr/local/lib/python3.10/dist-packages (from nbformat==5.7.0->open3d) (4.3.3)\n",
            "Requirement already satisfied: jupyter-core in /usr/local/lib/python3.10/dist-packages (from nbformat==5.7.0->open3d) (5.3.0)\n",
            "Requirement already satisfied: traitlets>=5.1 in /usr/local/lib/python3.10/dist-packages (from nbformat==5.7.0->open3d) (5.7.1)\n",
            "Requirement already satisfied: Flask>=1.0.4 in /usr/local/lib/python3.10/dist-packages (from dash>=2.6.0->open3d) (2.2.4)\n",
            "Requirement already satisfied: plotly>=5.0.0 in /usr/local/lib/python3.10/dist-packages (from dash>=2.6.0->open3d) (5.13.1)\n",
            "Collecting dash-html-components==2.0.0 (from dash>=2.6.0->open3d)\n",
            "  Downloading dash_html_components-2.0.0-py3-none-any.whl (4.1 kB)\n",
            "Collecting dash-core-components==2.0.0 (from dash>=2.6.0->open3d)\n",
            "  Downloading dash_core_components-2.0.0-py3-none-any.whl (3.8 kB)\n",
            "Collecting dash-table==5.0.0 (from dash>=2.6.0->open3d)\n",
            "  Downloading dash_table-5.0.0-py3-none-any.whl (3.9 kB)\n",
            "Requirement already satisfied: ipykernel>=4.5.1 in /usr/local/lib/python3.10/dist-packages (from ipywidgets>=8.0.4->open3d) (5.5.6)\n",
            "Requirement already satisfied: ipython>=6.1.0 in /usr/local/lib/python3.10/dist-packages (from ipywidgets>=8.0.4->open3d) (7.34.0)\n",
            "Collecting widgetsnbextension~=4.0.7 (from ipywidgets>=8.0.4->open3d)\n",
            "  Downloading widgetsnbextension-4.0.7-py3-none-any.whl (2.1 MB)\n",
            "\u001b[2K     \u001b[90m━━━━━━━━━━━━━━━━━━━━━━━━━━━━━━━━━━━━━━━━\u001b[0m \u001b[32m2.1/2.1 MB\u001b[0m \u001b[31m105.2 MB/s\u001b[0m eta \u001b[36m0:00:00\u001b[0m\n",
            "\u001b[?25hRequirement already satisfied: jupyterlab-widgets~=3.0.7 in /usr/local/lib/python3.10/dist-packages (from ipywidgets>=8.0.4->open3d) (3.0.7)\n",
            "Requirement already satisfied: contourpy>=1.0.1 in /usr/local/lib/python3.10/dist-packages (from matplotlib>=3->open3d) (1.0.7)\n",
            "Requirement already satisfied: cycler>=0.10 in /usr/local/lib/python3.10/dist-packages (from matplotlib>=3->open3d) (0.11.0)\n",
            "Requirement already satisfied: fonttools>=4.22.0 in /usr/local/lib/python3.10/dist-packages (from matplotlib>=3->open3d) (4.39.3)\n",
            "Requirement already satisfied: kiwisolver>=1.0.1 in /usr/local/lib/python3.10/dist-packages (from matplotlib>=3->open3d) (1.4.4)\n",
            "Requirement already satisfied: packaging>=20.0 in /usr/local/lib/python3.10/dist-packages (from matplotlib>=3->open3d) (23.1)\n",
            "Requirement already satisfied: pyparsing>=2.3.1 in /usr/local/lib/python3.10/dist-packages (from matplotlib>=3->open3d) (3.0.9)\n",
            "Requirement already satisfied: python-dateutil>=2.7 in /usr/local/lib/python3.10/dist-packages (from matplotlib>=3->open3d) (2.8.2)\n",
            "Requirement already satisfied: pytz>=2020.1 in /usr/local/lib/python3.10/dist-packages (from pandas>=1.0->open3d) (2022.7.1)\n",
            "Requirement already satisfied: scipy>=1.3.2 in /usr/local/lib/python3.10/dist-packages (from scikit-learn>=0.21->open3d) (1.10.1)\n",
            "Requirement already satisfied: joblib>=1.1.1 in /usr/local/lib/python3.10/dist-packages (from scikit-learn>=0.21->open3d) (1.2.0)\n",
            "Requirement already satisfied: threadpoolctl>=2.0.0 in /usr/local/lib/python3.10/dist-packages (from scikit-learn>=0.21->open3d) (3.1.0)\n",
            "Requirement already satisfied: MarkupSafe>=2.1.1 in /usr/local/lib/python3.10/dist-packages (from werkzeug>=2.2.3->open3d) (2.1.2)\n",
            "Requirement already satisfied: Jinja2>=3.0 in /usr/local/lib/python3.10/dist-packages (from Flask>=1.0.4->dash>=2.6.0->open3d) (3.1.2)\n",
            "Requirement already satisfied: itsdangerous>=2.0 in /usr/local/lib/python3.10/dist-packages (from Flask>=1.0.4->dash>=2.6.0->open3d) (2.1.2)\n",
            "Requirement already satisfied: click>=8.0 in /usr/local/lib/python3.10/dist-packages (from Flask>=1.0.4->dash>=2.6.0->open3d) (8.1.3)\n",
            "Requirement already satisfied: ipython-genutils in /usr/local/lib/python3.10/dist-packages (from ipykernel>=4.5.1->ipywidgets>=8.0.4->open3d) (0.2.0)\n",
            "Requirement already satisfied: jupyter-client in /usr/local/lib/python3.10/dist-packages (from ipykernel>=4.5.1->ipywidgets>=8.0.4->open3d) (6.1.12)\n",
            "Requirement already satisfied: tornado>=4.2 in /usr/local/lib/python3.10/dist-packages (from ipykernel>=4.5.1->ipywidgets>=8.0.4->open3d) (6.2)\n",
            "Requirement already satisfied: setuptools>=18.5 in /usr/local/lib/python3.10/dist-packages (from ipython>=6.1.0->ipywidgets>=8.0.4->open3d) (67.7.2)\n",
            "Collecting jedi>=0.16 (from ipython>=6.1.0->ipywidgets>=8.0.4->open3d)\n",
            "  Downloading jedi-0.18.2-py2.py3-none-any.whl (1.6 MB)\n",
            "\u001b[2K     \u001b[90m━━━━━━━━━━━━━━━━━━━━━━━━━━━━━━━━━━━━━━━━\u001b[0m \u001b[32m1.6/1.6 MB\u001b[0m \u001b[31m90.6 MB/s\u001b[0m eta \u001b[36m0:00:00\u001b[0m\n",
            "\u001b[?25hRequirement already satisfied: decorator in /usr/local/lib/python3.10/dist-packages (from ipython>=6.1.0->ipywidgets>=8.0.4->open3d) (4.4.2)\n",
            "Requirement already satisfied: pickleshare in /usr/local/lib/python3.10/dist-packages (from ipython>=6.1.0->ipywidgets>=8.0.4->open3d) (0.7.5)\n",
            "Requirement already satisfied: prompt-toolkit!=3.0.0,!=3.0.1,<3.1.0,>=2.0.0 in /usr/local/lib/python3.10/dist-packages (from ipython>=6.1.0->ipywidgets>=8.0.4->open3d) (3.0.38)\n",
            "Requirement already satisfied: pygments in /usr/local/lib/python3.10/dist-packages (from ipython>=6.1.0->ipywidgets>=8.0.4->open3d) (2.14.0)\n",
            "Requirement already satisfied: backcall in /usr/local/lib/python3.10/dist-packages (from ipython>=6.1.0->ipywidgets>=8.0.4->open3d) (0.2.0)\n",
            "Requirement already satisfied: matplotlib-inline in /usr/local/lib/python3.10/dist-packages (from ipython>=6.1.0->ipywidgets>=8.0.4->open3d) (0.1.6)\n",
            "Requirement already satisfied: pexpect>4.3 in /usr/local/lib/python3.10/dist-packages (from ipython>=6.1.0->ipywidgets>=8.0.4->open3d) (4.8.0)\n",
            "Requirement already satisfied: attrs>=17.4.0 in /usr/local/lib/python3.10/dist-packages (from jsonschema>=2.6->nbformat==5.7.0->open3d) (23.1.0)\n",
            "Requirement already satisfied: pyrsistent!=0.17.0,!=0.17.1,!=0.17.2,>=0.14.0 in /usr/local/lib/python3.10/dist-packages (from jsonschema>=2.6->nbformat==5.7.0->open3d) (0.19.3)\n",
            "Requirement already satisfied: tenacity>=6.2.0 in /usr/local/lib/python3.10/dist-packages (from plotly>=5.0.0->dash>=2.6.0->open3d) (8.2.2)\n",
            "Requirement already satisfied: six>=1.5 in /usr/local/lib/python3.10/dist-packages (from python-dateutil>=2.7->matplotlib>=3->open3d) (1.16.0)\n",
            "Requirement already satisfied: platformdirs>=2.5 in /usr/local/lib/python3.10/dist-packages (from jupyter-core->nbformat==5.7.0->open3d) (3.3.0)\n",
            "Requirement already satisfied: parso<0.9.0,>=0.8.0 in /usr/local/lib/python3.10/dist-packages (from jedi>=0.16->ipython>=6.1.0->ipywidgets>=8.0.4->open3d) (0.8.3)\n",
            "Requirement already satisfied: ptyprocess>=0.5 in /usr/local/lib/python3.10/dist-packages (from pexpect>4.3->ipython>=6.1.0->ipywidgets>=8.0.4->open3d) (0.7.0)\n",
            "Requirement already satisfied: wcwidth in /usr/local/lib/python3.10/dist-packages (from prompt-toolkit!=3.0.0,!=3.0.1,<3.1.0,>=2.0.0->ipython>=6.1.0->ipywidgets>=8.0.4->open3d) (0.2.6)\n",
            "Requirement already satisfied: pyzmq>=13 in /usr/local/lib/python3.10/dist-packages (from jupyter-client->ipykernel>=4.5.1->ipywidgets>=8.0.4->open3d) (23.2.1)\n",
            "Installing collected packages: dash-table, dash-html-components, dash-core-components, addict, widgetsnbextension, pyquaternion, pillow, jedi, configargparse, nbformat, dash, ipywidgets, open3d\n",
            "  Attempting uninstall: widgetsnbextension\n",
            "    Found existing installation: widgetsnbextension 3.6.4\n",
            "    Uninstalling widgetsnbextension-3.6.4:\n",
            "      Successfully uninstalled widgetsnbextension-3.6.4\n",
            "  Attempting uninstall: pillow\n",
            "    Found existing installation: Pillow 8.4.0\n",
            "    Uninstalling Pillow-8.4.0:\n",
            "      Successfully uninstalled Pillow-8.4.0\n",
            "  Attempting uninstall: nbformat\n",
            "    Found existing installation: nbformat 5.8.0\n",
            "    Uninstalling nbformat-5.8.0:\n",
            "      Successfully uninstalled nbformat-5.8.0\n",
            "  Attempting uninstall: ipywidgets\n",
            "    Found existing installation: ipywidgets 7.7.1\n",
            "    Uninstalling ipywidgets-7.7.1:\n",
            "      Successfully uninstalled ipywidgets-7.7.1\n",
            "Successfully installed addict-2.4.0 configargparse-1.5.3 dash-2.9.3 dash-core-components-2.0.0 dash-html-components-2.0.0 dash-table-5.0.0 ipywidgets-8.0.6 jedi-0.18.2 nbformat-5.7.0 open3d-0.17.0 pillow-9.5.0 pyquaternion-0.9.9 widgetsnbextension-4.0.7\n"
          ]
        },
        {
          "output_type": "display_data",
          "data": {
            "application/vnd.colab-display-data+json": {
              "pip_warning": {
                "packages": [
                  "PIL"
                ]
              }
            }
          },
          "metadata": {}
        }
      ],
      "source": [
        "# install the required packages for working in Colab\n",
        "%pip install open3d"
      ]
    },
    {
      "cell_type": "code",
      "source": [
        "# specifictions for rendering\n",
        "import os\n",
        "os.environ['EGL_PLATFORM'] = 'surfaceless'   # Ubuntu 20.04+\n",
        "os.environ['OPEN3D_CPU_RENDERING'] = 'true'  # Ubuntu 18.04 (just in case)"
      ],
      "metadata": {
        "id": "CbqGkUDOk8lw"
      },
      "id": "CbqGkUDOk8lw",
      "execution_count": 2,
      "outputs": []
    },
    {
      "cell_type": "code",
      "execution_count": 3,
      "id": "6c15c479",
      "metadata": {
        "id": "6c15c479"
      },
      "outputs": [],
      "source": [
        "from matplotlib import pyplot as plt\n",
        "import numpy as np\n",
        "import open3d as o3d\n",
        "import cv2\n",
        "from tqdm import tqdm\n",
        "import random\n",
        "import colorsys\n",
        "import copy\n",
        "import gc"
      ]
    },
    {
      "cell_type": "code",
      "execution_count": 4,
      "id": "9SrhLYHl0OUh",
      "metadata": {
        "colab": {
          "base_uri": "https://localhost:8080/"
        },
        "id": "9SrhLYHl0OUh",
        "outputId": "2dc37a43-0b03-4c6b-d883-2f40cd4fead8"
      },
      "outputs": [
        {
          "output_type": "stream",
          "name": "stdout",
          "text": [
            "Mounted at /content/drive\n",
            "/content/drive/My Drive/Colab environments/Risiko! DL\n",
            " \u001b[0m\u001b[01;34m3D_models\u001b[0m/            'Risiko!_Synthetic_Dataset_Creator.ipynb'\n",
            " \u001b[01;34mbackgrounds\u001b[0m/          'Risiko! Test.ipynb'\n",
            " coco_risiko.yaml       \u001b[01;34msynthetic_images\u001b[0m/\n",
            " \u001b[01;34mpre_trained_weights\u001b[0m/   test_example.txt\n",
            " \u001b[01;34mreal_images\u001b[0m/\n"
          ]
        }
      ],
      "source": [
        "# mount the drive\n",
        "from google.colab import drive\n",
        "drive.mount('/content/drive', force_remount=True)\n",
        "# access the folder containing the files required to run the project\n",
        "%cd /content/drive/My Drive/Colab environments/Risiko! DL/\n",
        "# check that we are in the desired folder and that all required files are present\n",
        "%ls"
      ]
    },
    {
      "cell_type": "markdown",
      "id": "41e5fe15",
      "metadata": {
        "id": "41e5fe15"
      },
      "source": [
        "## Set the parameters"
      ]
    },
    {
      "cell_type": "code",
      "execution_count": 5,
      "id": "2292ff85",
      "metadata": {
        "id": "2292ff85"
      },
      "outputs": [],
      "source": [
        "## Paths\n",
        "background_folder_path = \"backgrounds\"\n",
        "output_folder_path = \"synthetic_images\"\n",
        "tank_3dmodel_path = \"3D_models/Risiko_Tank_v2.stl\"\n",
        "flag_3dmodel_path = \"3D_models/RisikoFlag.stl\"\n",
        "backs = [os.path.join(dp, f) for dp, dn, filenames in os.walk(background_folder_path) for f in filenames if os.path.splitext(f)[1] in [\".jpg\", \".JPG\"]]\n",
        "\n",
        "## General Params\n",
        "images_to_gen_num = 1000\n",
        "max_tanks_in_image_num = 80\n",
        "max_flags_in_image_num = 20\n",
        "max_fails = 10\n",
        "\n",
        "## Rendering Params\n",
        "debug_visual = False\n",
        "img_width, img_height = 1920, 1280\n",
        "near_plane = 0.1\n",
        "far_plane  = 1e4\n",
        "v_fov      = 15.0       # vertical field of view: between 5 and 90 degrees\n",
        "center     = [0, 0, 0]  # look_at target\n",
        "up         = [0, 1, 0]  # camera orientation\n",
        "rpy_amp    = 10         # rotation span (for randomly drawing)\n",
        "min_eye_dist, max_eye_dist = 300, 2300\n",
        "min_amp, max_amp = 30, 200\n",
        "aspect_ratio = img_width / img_height  # azimuth over elevation\n",
        "\n",
        "fov_type = o3d.visualization.rendering.Camera.FovType.Vertical\n",
        "\n",
        "\n",
        "## Color macros\n",
        "BLUE, RED, YELLOW, PURPLE, BLACK, GREEN = 0, 1, 2, 3, 4, 5\n",
        "BACKGROUND_COLOR = [0, 0, 0, 0]\n",
        "\n",
        "\n",
        "## check if out dir exists\n",
        "assert os.path.isdir(output_folder_path), f\"output folder \\\"{output_folder_path}\\\" does not exist! (so, create it!) exit.\"\n",
        "\n",
        "## if images and labels dirs do not exists, create them\n",
        "if not os.path.isdir(f\"{output_folder_path}/images\"):\n",
        "    os.mkdir(f\"{output_folder_path}/images\")\n",
        "    print(f\"created folder {output_folder_path}/images\")\n",
        "if not os.path.isdir(f\"{output_folder_path}/labels\"):\n",
        "    os.mkdir(f\"{output_folder_path}/labels\")\n",
        "    print(f\"created folder {output_folder_path}/labels\")\n",
        "\n"
      ]
    },
    {
      "cell_type": "markdown",
      "id": "c5a03045",
      "metadata": {
        "id": "c5a03045"
      },
      "source": [
        "## Load meshes"
      ]
    },
    {
      "cell_type": "code",
      "execution_count": 6,
      "id": "db5ff0c4",
      "metadata": {
        "id": "db5ff0c4"
      },
      "outputs": [],
      "source": [
        "## Load meshes\n",
        "mesh_tank = o3d.io.read_triangle_mesh(tank_3dmodel_path)\n",
        "mesh_flag = o3d.io.read_triangle_mesh(flag_3dmodel_path)"
      ]
    },
    {
      "cell_type": "markdown",
      "id": "d7ac68e9",
      "metadata": {
        "id": "d7ac68e9"
      },
      "source": [
        "## Define some useful functions"
      ]
    },
    {
      "cell_type": "code",
      "execution_count": 7,
      "id": "b8bd72ec",
      "metadata": {
        "id": "b8bd72ec"
      },
      "outputs": [],
      "source": [
        "def generate_color(object_class):\n",
        "    ''' function that generate a color triplet (in hsv space)\n",
        "    according to the army color (manually found)\n",
        "    @return the hsv color converted to rgb space\n",
        "    '''\n",
        "    h=None\n",
        "    color = object_class % 6\n",
        "    if color==BLACK:\n",
        "        h = random.uniform(.0, 1.0)\n",
        "        s = random.uniform(.0, 0.1)\n",
        "        v = random.uniform(.0, 0.05)\n",
        "        return colorsys.hsv_to_rgb(h, s, v)\n",
        "\n",
        "    if color==BLUE:\n",
        "        h = random.uniform(230/360, 239/360)\n",
        "        s = random.uniform(0.88, 1.0)\n",
        "    elif color==RED:\n",
        "        h = random.uniform(-13/360, 8/360)\n",
        "        s = random.uniform(0.88, 1.0)\n",
        "        if h<0:\n",
        "            h+=1.0\n",
        "    elif color==PURPLE:\n",
        "        h = random.uniform(257/360, 279/360)\n",
        "        s = random.uniform(0.7, 1.0)\n",
        "    elif color==YELLOW:\n",
        "        h = random.uniform(45/360, 66/360)\n",
        "        s = random.uniform(0.7, 1.0)\n",
        "    elif color==GREEN:\n",
        "        h = random.uniform(99/360, 160/360)\n",
        "        s = random.uniform(0.7, 1.0)\n",
        "    \n",
        "    ## the value of \"v\" is good for everyone but BLACK armies \n",
        "    v = random.uniform(0.5, 1.0)\n",
        "\n",
        "    return colorsys.hsv_to_rgb(h, s, v)"
      ]
    },
    {
      "cell_type": "code",
      "execution_count": 8,
      "id": "07d8a4eb",
      "metadata": {
        "id": "07d8a4eb"
      },
      "outputs": [],
      "source": [
        "def is_recb_contained_in_reca(reca, recb) :\n",
        "    ''' function that checks whether the rectangle recb (xb, yb, wb, hb)\n",
        "    is contained inside the rectangle reca (xa, ya, wa, ha)\n",
        "    '''\n",
        "    xa, ya, wa, ha = reca\n",
        "    xb, yb, wb, hb = recb\n",
        "    flagx = flagy = False\n",
        "    if xb>=xa:\n",
        "        flagx = xb*2+wb <= xa*2+wa\n",
        "    else:\n",
        "        flagx = xb*2+wb >= xa*2+wa\n",
        "    if yb>=ya:\n",
        "        flagy = yb*2+hb <= ya*2+ha\n",
        "    else:\n",
        "        flagy = yb*2+hb >= ya*2+ha\n",
        "    return (flagx and flagy)\n",
        "\n",
        "def create_renderer():\n",
        "    #render = o3d.visualization.rendering.OffscreenRenderer(img_width, img_height)\n",
        "    render = o3d.visualization.rendering.OffscreenRenderer(img_width, img_height)\n",
        "\n",
        "    render.scene.scene.enable_sun_light(False)\n",
        "    render.scene.set_lighting(render.scene.LightingProfile.NO_SHADOWS, (0, 0, 0))\n",
        "    render.scene.set_background(BACKGROUND_COLOR)\n",
        "    return render\n",
        "\n",
        "def create_mtl(rgb):\n",
        "    mtl = o3d.visualization.rendering.MaterialRecord()    # or MaterialRecord(), for later versions of Open3D\n",
        "    mtl.base_color = [rgb[0], rgb[1], rgb[2], 1.0]  # RGBA\n",
        "    mtl.shader = \"defaultLit\"\n",
        "    return mtl"
      ]
    },
    {
      "cell_type": "code",
      "execution_count": 9,
      "id": "f4b871a6",
      "metadata": {
        "id": "f4b871a6",
        "colab": {
          "base_uri": "https://localhost:8080/"
        },
        "outputId": "bb8a573e-ec45-449a-a609-82f27e228eb4"
      },
      "outputs": [
        {
          "output_type": "stream",
          "name": "stdout",
          "text": [
            "[Open3D INFO] EGL headless mode enabled.\n"
          ]
        }
      ],
      "source": [
        "render = create_renderer()\n",
        "\n",
        "def add(color, eye_dist_anchor, mesh, image):\n",
        "    \"\"\" project mesh to camera plane using rendering params.\n",
        "    The projection is then added to the image.\n",
        "    The projection is made on a black background in order to easily extract the bounding box (ground truth)\n",
        "    \"\"\"\n",
        "\n",
        "    render.scene.remove_geometry(\"rotated_model\")\n",
        "    rgb = generate_color(color)\n",
        "    mtl = create_mtl(rgb)\n",
        "    \n",
        "    eye_dist     = eye_dist_anchor*(max_eye_dist - min_eye_dist) + min_eye_dist\n",
        "    ax = ay = az = eye_dist_anchor*(max_amp - min_amp) + min_amp\n",
        "    dx, dy, dz   = random.random()*ax, random.random()*ay, random.random()*az\n",
        "    \n",
        "    # Optionally set the camera field of view (to zoom in a bit)\n",
        "    render.scene.camera.set_projection(v_fov, aspect_ratio, near_plane, far_plane, fov_type)\n",
        "\n",
        "    # Look at the origin from the front (along the -Z direction, into the screen), with Y as Up.\n",
        "    eye = [0, 0, eye_dist]  # camera position\n",
        "    render.scene.camera.look_at(center, eye, up)\n",
        "\n",
        "    roll, pitch, yaw = random.random()*rpy_amp, random.random()*rpy_amp, random.random()*rpy_amp\n",
        "\n",
        "    mesh_r = copy.deepcopy(mesh)\n",
        "    R = mesh_r.get_rotation_matrix_from_xyz((roll, pitch, yaw))\n",
        "    mesh_r.translate((dx, dy, dz))\n",
        "    mesh_r.rotate(R, center=center)\n",
        "\n",
        "    render.scene.add_geometry(\"rotated_model\", mesh_r, mtl)\n",
        "\n",
        "    # Read the image into a variable\n",
        "    img_o3d = np.array(render.render_to_image())\n",
        "    \n",
        "    # Compute the bounding box by checking first and last pixel of the object in row/col \n",
        "    imgray  = cv2.cvtColor(img_o3d, cv2.COLOR_BGRA2GRAY)\n",
        "    rows, cols = imgray.shape\n",
        "\n",
        "    x = next((c for c in range(cols) if any(imgray[:, c] > 1)), None)\n",
        "    y = next((r for r in range(rows) if any(imgray[r, :] > 1)), None)\n",
        "    w = next((c - x for c in range(cols-1, 0, -1) if any(imgray[:, c] > 1)), None)\n",
        "    h = next((r - y for r in range(rows-1, 0, -1) if any(imgray[r, :] > 1)), None)\n",
        "    \n",
        "    mask = imgray>1\n",
        "    image[mask] = cv2.cvtColor(img_o3d, cv2.COLOR_RGBA2RGB)[mask]\n",
        "    \n",
        "    del mesh_r, mtl, img_o3d, imgray, mask\n",
        "    gc.collect()\n",
        "    \n",
        "    return [image, (x, y, w, h), color]\n"
      ]
    },
    {
      "cell_type": "code",
      "execution_count": 10,
      "id": "2aab7152",
      "metadata": {
        "id": "2aab7152"
      },
      "outputs": [],
      "source": [
        "def add_armies(image, armies_num, eye_dist_anchor, armies, fails, is_flag):\n",
        "    for i in tqdm(range(armies_num)):\n",
        "        army_color = random.randint(0,5)\n",
        "        while fails<max_fails:\n",
        "            if is_flag:\n",
        "                res = add(army_color+6, eye_dist_anchor, mesh_flag, image)\n",
        "            else:\n",
        "                res = add(army_color, eye_dist_anchor, mesh_tank, image)\n",
        "            if (None not in res[1]) and not any([is_recb_contained_in_reca(armies[i][1], res[1]) for i in range(len(armies))]):\n",
        "                break\n",
        "            fails+=1\n",
        "\n",
        "        if fails<max_fails:\n",
        "            armies.append(res)\n",
        "\n",
        "    if fails>=max_fails:\n",
        "        return False\n",
        "    return True"
      ]
    },
    {
      "cell_type": "markdown",
      "id": "a377c20b",
      "metadata": {
        "id": "a377c20b"
      },
      "source": [
        "# Generate Synthetic Images!"
      ]
    },
    {
      "cell_type": "code",
      "execution_count": 11,
      "id": "cdc69a8b",
      "metadata": {
        "id": "cdc69a8b",
        "colab": {
          "base_uri": "https://localhost:8080/",
          "height": 971
        },
        "outputId": "91f75549-38fd-4f28-a194-8acc7ad90f05"
      },
      "outputs": [
        {
          "output_type": "stream",
          "name": "stdout",
          "text": [
            "generating 38 tanks for image    0 / 1000 (step 1/2)\n"
          ]
        },
        {
          "output_type": "stream",
          "name": "stderr",
          "text": [
            "100%|██████████| 38/38 [00:33<00:00,  1.12it/s]\n"
          ]
        },
        {
          "output_type": "stream",
          "name": "stdout",
          "text": [
            "generating 13 flags for image    0 / 1000  (step 2/2)\n"
          ]
        },
        {
          "output_type": "stream",
          "name": "stderr",
          "text": [
            "100%|██████████| 13/13 [00:10<00:00,  1.28it/s]\n"
          ]
        },
        {
          "output_type": "stream",
          "name": "stdout",
          "text": [
            "generating 42 tanks for image    1 / 1000 (step 1/2)\n"
          ]
        },
        {
          "output_type": "stream",
          "name": "stderr",
          "text": [
            "100%|██████████| 42/42 [00:30<00:00,  1.38it/s]\n"
          ]
        },
        {
          "output_type": "stream",
          "name": "stdout",
          "text": [
            "generating 1 flags for image    1 / 1000  (step 2/2)\n"
          ]
        },
        {
          "output_type": "stream",
          "name": "stderr",
          "text": [
            "100%|██████████| 1/1 [00:00<00:00,  1.63it/s]\n"
          ]
        },
        {
          "output_type": "stream",
          "name": "stdout",
          "text": [
            "generating 36 tanks for image    2 / 1000 (step 1/2)\n"
          ]
        },
        {
          "output_type": "stream",
          "name": "stderr",
          "text": [
            "100%|██████████| 36/36 [00:26<00:00,  1.33it/s]\n"
          ]
        },
        {
          "output_type": "stream",
          "name": "stdout",
          "text": [
            "generating 20 flags for image    2 / 1000  (step 2/2)\n"
          ]
        },
        {
          "output_type": "stream",
          "name": "stderr",
          "text": [
            "100%|██████████| 20/20 [00:14<00:00,  1.36it/s]\n"
          ]
        },
        {
          "output_type": "stream",
          "name": "stdout",
          "text": [
            "generating 68 tanks for image    3 / 1000 (step 1/2)\n"
          ]
        },
        {
          "output_type": "stream",
          "name": "stderr",
          "text": [
            "100%|██████████| 68/68 [00:50<00:00,  1.35it/s]\n"
          ]
        },
        {
          "output_type": "stream",
          "name": "stdout",
          "text": [
            "generating 8 flags for image    3 / 1000  (step 2/2)\n"
          ]
        },
        {
          "output_type": "stream",
          "name": "stderr",
          "text": [
            "100%|██████████| 8/8 [00:05<00:00,  1.57it/s]\n"
          ]
        },
        {
          "output_type": "stream",
          "name": "stdout",
          "text": [
            "generating 18 tanks for image    4 / 1000 (step 1/2)\n"
          ]
        },
        {
          "output_type": "stream",
          "name": "stderr",
          "text": [
            "100%|██████████| 18/18 [00:13<00:00,  1.38it/s]\n"
          ]
        },
        {
          "output_type": "stream",
          "name": "stdout",
          "text": [
            "generating 6 flags for image    4 / 1000  (step 2/2)\n"
          ]
        },
        {
          "output_type": "stream",
          "name": "stderr",
          "text": [
            "100%|██████████| 6/6 [00:04<00:00,  1.27it/s]\n"
          ]
        },
        {
          "output_type": "stream",
          "name": "stdout",
          "text": [
            "generating 2 tanks for image    5 / 1000 (step 1/2)\n"
          ]
        },
        {
          "output_type": "stream",
          "name": "stderr",
          "text": [
            "100%|██████████| 2/2 [00:01<00:00,  1.55it/s]\n"
          ]
        },
        {
          "output_type": "stream",
          "name": "stdout",
          "text": [
            "generating 8 flags for image    5 / 1000  (step 2/2)\n"
          ]
        },
        {
          "output_type": "stream",
          "name": "stderr",
          "text": [
            "100%|██████████| 8/8 [00:06<00:00,  1.31it/s]\n"
          ]
        },
        {
          "output_type": "stream",
          "name": "stdout",
          "text": [
            "generating 77 tanks for image    6 / 1000 (step 1/2)\n"
          ]
        },
        {
          "output_type": "stream",
          "name": "stderr",
          "text": [
            "100%|██████████| 77/77 [00:56<00:00,  1.36it/s]\n"
          ]
        },
        {
          "output_type": "stream",
          "name": "stdout",
          "text": [
            "generating 13 flags for image    6 / 1000  (step 2/2)\n"
          ]
        },
        {
          "output_type": "stream",
          "name": "stderr",
          "text": [
            "100%|██████████| 13/13 [00:08<00:00,  1.58it/s]\n"
          ]
        },
        {
          "output_type": "stream",
          "name": "stdout",
          "text": [
            "generating 37 tanks for image    7 / 1000 (step 1/2)\n"
          ]
        },
        {
          "output_type": "stream",
          "name": "stderr",
          "text": [
            "100%|██████████| 37/37 [00:25<00:00,  1.45it/s]\n"
          ]
        },
        {
          "output_type": "stream",
          "name": "stdout",
          "text": [
            "generating 6 flags for image    7 / 1000  (step 2/2)\n"
          ]
        },
        {
          "output_type": "stream",
          "name": "stderr",
          "text": [
            "100%|██████████| 6/6 [00:05<00:00,  1.11it/s]\n"
          ]
        },
        {
          "output_type": "stream",
          "name": "stdout",
          "text": [
            "generating 68 tanks for image    8 / 1000 (step 1/2)\n"
          ]
        },
        {
          "output_type": "stream",
          "name": "stderr",
          "text": [
            " 75%|███████▌  | 51/68 [00:37<00:12,  1.36it/s]\n"
          ]
        },
        {
          "output_type": "error",
          "ename": "KeyboardInterrupt",
          "evalue": "ignored",
          "traceback": [
            "\u001b[0;31m---------------------------------------------------------------------------\u001b[0m",
            "\u001b[0;31mKeyboardInterrupt\u001b[0m                         Traceback (most recent call last)",
            "\u001b[0;32m<ipython-input-11-1a235209778c>\u001b[0m in \u001b[0;36m<cell line: 1>\u001b[0;34m()\u001b[0m\n\u001b[1;32m     14\u001b[0m \u001b[0;34m\u001b[0m\u001b[0m\n\u001b[1;32m     15\u001b[0m         \u001b[0mprint\u001b[0m\u001b[0;34m(\u001b[0m\u001b[0;34mf\"generating {tanks_num} tanks for image {sample_idx:4d} / {images_to_gen_num:4d} (step 1/2)\"\u001b[0m\u001b[0;34m)\u001b[0m\u001b[0;34m\u001b[0m\u001b[0;34m\u001b[0m\u001b[0m\n\u001b[0;32m---> 16\u001b[0;31m         \u001b[0mstatus\u001b[0m \u001b[0;34m=\u001b[0m \u001b[0madd_armies\u001b[0m\u001b[0;34m(\u001b[0m\u001b[0mimage\u001b[0m\u001b[0;34m,\u001b[0m \u001b[0mtanks_num\u001b[0m\u001b[0;34m,\u001b[0m \u001b[0meye_dist_anchor\u001b[0m\u001b[0;34m,\u001b[0m \u001b[0marmies\u001b[0m\u001b[0;34m,\u001b[0m \u001b[0mfails\u001b[0m\u001b[0;34m,\u001b[0m \u001b[0mis_flag\u001b[0m\u001b[0;34m=\u001b[0m\u001b[0;32mFalse\u001b[0m\u001b[0;34m)\u001b[0m\u001b[0;34m\u001b[0m\u001b[0;34m\u001b[0m\u001b[0m\n\u001b[0m\u001b[1;32m     17\u001b[0m         \u001b[0;32mif\u001b[0m \u001b[0;32mnot\u001b[0m \u001b[0mstatus\u001b[0m\u001b[0;34m:\u001b[0m\u001b[0;34m\u001b[0m\u001b[0;34m\u001b[0m\u001b[0m\n\u001b[1;32m     18\u001b[0m             \u001b[0;32mcontinue\u001b[0m\u001b[0;34m\u001b[0m\u001b[0;34m\u001b[0m\u001b[0m\n",
            "\u001b[0;32m<ipython-input-10-3798c62d05dc>\u001b[0m in \u001b[0;36madd_armies\u001b[0;34m(image, armies_num, eye_dist_anchor, armies, fails, is_flag)\u001b[0m\n\u001b[1;32m      6\u001b[0m                 \u001b[0mres\u001b[0m \u001b[0;34m=\u001b[0m \u001b[0madd\u001b[0m\u001b[0;34m(\u001b[0m\u001b[0marmy_color\u001b[0m\u001b[0;34m+\u001b[0m\u001b[0;36m6\u001b[0m\u001b[0;34m,\u001b[0m \u001b[0meye_dist_anchor\u001b[0m\u001b[0;34m,\u001b[0m \u001b[0mmesh_flag\u001b[0m\u001b[0;34m,\u001b[0m \u001b[0mimage\u001b[0m\u001b[0;34m)\u001b[0m\u001b[0;34m\u001b[0m\u001b[0;34m\u001b[0m\u001b[0m\n\u001b[1;32m      7\u001b[0m             \u001b[0;32melse\u001b[0m\u001b[0;34m:\u001b[0m\u001b[0;34m\u001b[0m\u001b[0;34m\u001b[0m\u001b[0m\n\u001b[0;32m----> 8\u001b[0;31m                 \u001b[0mres\u001b[0m \u001b[0;34m=\u001b[0m \u001b[0madd\u001b[0m\u001b[0;34m(\u001b[0m\u001b[0marmy_color\u001b[0m\u001b[0;34m,\u001b[0m \u001b[0meye_dist_anchor\u001b[0m\u001b[0;34m,\u001b[0m \u001b[0mmesh_tank\u001b[0m\u001b[0;34m,\u001b[0m \u001b[0mimage\u001b[0m\u001b[0;34m)\u001b[0m\u001b[0;34m\u001b[0m\u001b[0;34m\u001b[0m\u001b[0m\n\u001b[0m\u001b[1;32m      9\u001b[0m             \u001b[0;32mif\u001b[0m \u001b[0;34m(\u001b[0m\u001b[0;32mNone\u001b[0m \u001b[0;32mnot\u001b[0m \u001b[0;32min\u001b[0m \u001b[0mres\u001b[0m\u001b[0;34m[\u001b[0m\u001b[0;36m1\u001b[0m\u001b[0;34m]\u001b[0m\u001b[0;34m)\u001b[0m \u001b[0;32mand\u001b[0m \u001b[0;32mnot\u001b[0m \u001b[0many\u001b[0m\u001b[0;34m(\u001b[0m\u001b[0;34m[\u001b[0m\u001b[0mis_recb_contained_in_reca\u001b[0m\u001b[0;34m(\u001b[0m\u001b[0marmies\u001b[0m\u001b[0;34m[\u001b[0m\u001b[0mi\u001b[0m\u001b[0;34m]\u001b[0m\u001b[0;34m[\u001b[0m\u001b[0;36m1\u001b[0m\u001b[0;34m]\u001b[0m\u001b[0;34m,\u001b[0m \u001b[0mres\u001b[0m\u001b[0;34m[\u001b[0m\u001b[0;36m1\u001b[0m\u001b[0;34m]\u001b[0m\u001b[0;34m)\u001b[0m \u001b[0;32mfor\u001b[0m \u001b[0mi\u001b[0m \u001b[0;32min\u001b[0m \u001b[0mrange\u001b[0m\u001b[0;34m(\u001b[0m\u001b[0mlen\u001b[0m\u001b[0;34m(\u001b[0m\u001b[0marmies\u001b[0m\u001b[0;34m)\u001b[0m\u001b[0;34m)\u001b[0m\u001b[0;34m]\u001b[0m\u001b[0;34m)\u001b[0m\u001b[0;34m:\u001b[0m\u001b[0;34m\u001b[0m\u001b[0;34m\u001b[0m\u001b[0m\n\u001b[1;32m     10\u001b[0m                 \u001b[0;32mbreak\u001b[0m\u001b[0;34m\u001b[0m\u001b[0;34m\u001b[0m\u001b[0m\n",
            "\u001b[0;32m<ipython-input-9-92cc72624ed3>\u001b[0m in \u001b[0;36madd\u001b[0;34m(color, eye_dist_anchor, mesh, image)\u001b[0m\n\u001b[1;32m     32\u001b[0m \u001b[0;34m\u001b[0m\u001b[0m\n\u001b[1;32m     33\u001b[0m     \u001b[0;31m# Read the image into a variable\u001b[0m\u001b[0;34m\u001b[0m\u001b[0;34m\u001b[0m\u001b[0m\n\u001b[0;32m---> 34\u001b[0;31m     \u001b[0mimg_o3d\u001b[0m \u001b[0;34m=\u001b[0m \u001b[0mnp\u001b[0m\u001b[0;34m.\u001b[0m\u001b[0marray\u001b[0m\u001b[0;34m(\u001b[0m\u001b[0mrender\u001b[0m\u001b[0;34m.\u001b[0m\u001b[0mrender_to_image\u001b[0m\u001b[0;34m(\u001b[0m\u001b[0;34m)\u001b[0m\u001b[0;34m)\u001b[0m\u001b[0;34m\u001b[0m\u001b[0;34m\u001b[0m\u001b[0m\n\u001b[0m\u001b[1;32m     35\u001b[0m \u001b[0;34m\u001b[0m\u001b[0m\n\u001b[1;32m     36\u001b[0m     \u001b[0;31m# Compute the bounding box by checking first and last pixel of the object in row/col\u001b[0m\u001b[0;34m\u001b[0m\u001b[0;34m\u001b[0m\u001b[0m\n",
            "\u001b[0;31mKeyboardInterrupt\u001b[0m: "
          ]
        }
      ],
      "source": [
        "for sample_idx in range(0, images_to_gen_num):\n",
        "    success_flag = False\n",
        "    while not success_flag:\n",
        "        back_idx  = random.randint(0, len(backs)-1)\n",
        "        tanks_num = random.randint(1, max_tanks_in_image_num)\n",
        "        flags_num = random.randint(1, max_flags_in_image_num)\n",
        "        eye_dist_anchor  = random.uniform(0, 1)\n",
        "\n",
        "        image = cv2.resize(cv2.imread(backs[back_idx]), (img_width, img_height))\n",
        "        image = cv2.cvtColor(image, cv2.COLOR_BGR2RGB)\n",
        "\n",
        "        armies = []\n",
        "        fails = 0\n",
        "\n",
        "        print(f\"generating {tanks_num} tanks for image {sample_idx:4d} / {images_to_gen_num:4d} (step 1/2)\")\n",
        "        status = add_armies(image, tanks_num, eye_dist_anchor, armies, fails, is_flag=False)\n",
        "        if not status:\n",
        "            continue\n",
        "            \n",
        "        print(f\"generating {flags_num} flags for image {sample_idx:4d} / {images_to_gen_num:4d}  (step 2/2)\")\n",
        "        status = add_armies(image, flags_num, eye_dist_anchor, armies, fails, is_flag=True)\n",
        "        if not status:\n",
        "            continue\n",
        "        \n",
        "        success_flag = True\n",
        "        \n",
        "        ## write the projected image and labels to disk\n",
        "        name = str(sample_idx).zfill(6)\n",
        "        image_ = cv2.cvtColor(image, cv2.COLOR_BGR2RGB)\n",
        "        cv2.imwrite(f\"{output_folder_path}/images/{name}.jpg\", image_)\n",
        "        with open(f\"{output_folder_path}/labels/{name}.txt\", \"w\") as f:\n",
        "            for i in range(len(armies)):\n",
        "                x, y, w, h = armies[i][1]\n",
        "                x = (x+(w/2))/img_width\n",
        "                y = (y+(h/2))/img_height\n",
        "                f.write(f\"{armies[i][2]} {x:8.7f} {y:8.7f} {w/img_width:8.7f} {h/img_height:8.7f}\\n\")\n",
        "        \n",
        "        \n",
        "        ## if you want to visualize the produced data with rectangles on the fly\n",
        "        if debug_visual:\n",
        "            for i in range(len(army)):\n",
        "                x, y, w, h = army[i][1]\n",
        "                cv2.rectangle(image, (x, y), (x + w, y + h), (36,255,12, 1) if army[i][2] < 6 else (180,180,12, 1) , 2)\n",
        "\n",
        "            plt.imshow(image)\n",
        "            plt.show()\n",
        "        \n",
        "        del armies, image, image_\n",
        "        gc.collect()\n"
      ]
    },
    {
      "cell_type": "markdown",
      "id": "9f217098",
      "metadata": {
        "id": "9f217098"
      },
      "source": [
        "# Visualize data with rectangles\n",
        "Run this script to visualize images with armie (or not) with a rectangle over the tanks/flags\n",
        "\n",
        " - modify the \"idx\" variable to choose different sample image\n",
        " - modify the \"version\" variable to draw the sample image from one dataset or another (see below)"
      ]
    },
    {
      "cell_type": "code",
      "execution_count": null,
      "id": "21f24e08",
      "metadata": {
        "id": "21f24e08"
      },
      "outputs": [],
      "source": [
        "## choose one version of dataset among \"real_images\", \"synthetic_images\" and \"synthetic_dataset\"\n",
        "path_to_ds = \"synthetic_dataset\"\n",
        "idx = 0\n",
        "\n",
        "img_path = f\"{path_to_ds}/images/{str(idx).zfill(6)}.jpg\"\n",
        "lab_path = f\"{path_to_ds}/labels/{str(idx).zfill(6)}.txt\"\n",
        "\n",
        "image = cv2.imread(img_path)\n",
        "assert image is not None, f\"img not found at path {img_path}\"\n",
        "image = cv2.cvtColor(image, cv2.COLOR_RGB2BGR ) # dear old opencv (imshow wants bgr)\n",
        "\n",
        "H, W = image.shape[:2]\n",
        "\n",
        "## not written rule: if label file doesn't exist, then no army is present\n",
        "image_with_rect = image.copy()\n",
        "if os.path.exists(lab_path):\n",
        "    with open(lab_path, \"r\") as file:\n",
        "        for line in file:\n",
        "            line = line.split(\" \")\n",
        "            c, x, y, w, h = int(line[0]), float(line[1]), float(line[2]), float(line[3]), float(line[4])\n",
        "            x1, y1 = int((x-w/2)*W), int((y-h/2)*H)\n",
        "            x2, y2 = int((x+w/2)*W), int((y+h/2)*H)\n",
        "            \n",
        "            cv2.rectangle(image_with_rect, (x1, y1), (x2, y2), (36,255,12, 1) if c < 6 else (255,12,10, 1), 2)\n",
        "\n",
        "print(\" ---- image without rectangles\")\n",
        "plt.imshow(image)\n",
        "plt.show()\n",
        "print(\" ---- image with rectangles\")\n",
        "plt.imshow(image_with_rect)\n",
        "plt.show()"
      ]
    }
  ],
  "metadata": {
    "colab": {
      "provenance": [],
      "gpuType": "T4"
    },
    "kernelspec": {
      "display_name": "Python 3 (ipykernel)",
      "language": "python",
      "name": "python3"
    },
    "language_info": {
      "codemirror_mode": {
        "name": "ipython",
        "version": 3
      },
      "file_extension": ".py",
      "mimetype": "text/x-python",
      "name": "python",
      "nbconvert_exporter": "python",
      "pygments_lexer": "ipython3",
      "version": "3.8.16"
    },
    "accelerator": "GPU",
    "gpuClass": "standard"
  },
  "nbformat": 4,
  "nbformat_minor": 5
}