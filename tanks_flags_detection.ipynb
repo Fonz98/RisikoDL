{
  "cells": [
    {
      "cell_type": "markdown",
      "metadata": {
        "id": "L_lD1wM0WA-3"
      },
      "source": [
        "Import statements"
      ],
      "id": "L_lD1wM0WA-3"
    },
    {
      "cell_type": "code",
      "execution_count": 1,
      "metadata": {
        "id": "OrHsDwGsUd_p"
      },
      "outputs": [],
      "source": [
        "import torch\n",
        "import os\n",
        "import shutil"
      ],
      "id": "OrHsDwGsUd_p"
    },
    {
      "cell_type": "markdown",
      "metadata": {
        "id": "C2yFEOaRWSRv"
      },
      "source": [
        "Load the drive folder containing all required files"
      ],
      "id": "C2yFEOaRWSRv"
    },
    {
      "cell_type": "code",
      "execution_count": 2,
      "metadata": {
        "colab": {
          "base_uri": "https://localhost:8080/"
        },
        "id": "Bw-NDnzyWZFt",
        "outputId": "d0dd9933-a68f-4385-c16b-7fc4bd9875b7"
      },
      "outputs": [
        {
          "output_type": "stream",
          "name": "stdout",
          "text": [
            "Mounted at /content/drive\n",
            "/content/drive/My Drive/Colab environments/Risiko! DL\n",
            " \u001b[0m\u001b[01;34m3D_models\u001b[0m/             'Risiko!_Synthetic_Dataset_Creator.ipynb'\n",
            " \u001b[01;34mbackgrounds\u001b[0m/           'Risiko! Test.ipynb'\n",
            " coco_risiko.yaml        Split_train_test_val.ipynb\n",
            " custom_yolo.yaml        \u001b[01;34msynthetic_dataset\u001b[0m/\n",
            " \u001b[01;34mdatasets\u001b[0m/               \u001b[01;34msynthetic_images\u001b[0m/\n",
            " image_detection.ipynb   test_example.txt\n",
            " \u001b[01;34mpre_trained_weights\u001b[0m/    \u001b[01;34myolov5\u001b[0m/\n",
            " \u001b[01;34mreal_images\u001b[0m/\n"
          ]
        }
      ],
      "source": [
        "# mount the drive\n",
        "from google.colab import drive\n",
        "drive.mount('/content/drive', force_remount=True)\n",
        "\n",
        "# access the drive folder containing everything we need\n",
        "%cd /content/drive/My Drive/Colab environments/Risiko! DL\n",
        "\n",
        "# check that we are in the desired folder\n",
        "%ls"
      ],
      "id": "Bw-NDnzyWZFt"
    },
    {
      "cell_type": "markdown",
      "source": [
        "#### Clone the GitHub repository yolov5 and install requirements"
      ],
      "metadata": {
        "id": "inzs-9ObOl_p"
      },
      "id": "inzs-9ObOl_p"
    },
    {
      "cell_type": "code",
      "execution_count": 3,
      "metadata": {
        "colab": {
          "base_uri": "https://localhost:8080/"
        },
        "id": "final-aside",
        "outputId": "ea2827bc-f0b3-489c-b279-d832e36df3b1"
      },
      "outputs": [
        {
          "output_type": "stream",
          "name": "stdout",
          "text": [
            "fatal: destination path 'yolov5' already exists and is not an empty directory.\n",
            "/content/drive/My Drive/Colab environments/Risiko! DL/yolov5\n",
            "\u001b[2K     \u001b[90m━━━━━━━━━━━━━━━━━━━━━━━━━━━━━━━━━━━━━━━\u001b[0m \u001b[32m184.3/184.3 kB\u001b[0m \u001b[31m5.5 MB/s\u001b[0m eta \u001b[36m0:00:00\u001b[0m\n",
            "\u001b[2K     \u001b[90m━━━━━━━━━━━━━━━━━━━━━━━━━━━━━━━━━━━━━━\u001b[0m \u001b[32m595.4/595.4 kB\u001b[0m \u001b[31m27.0 MB/s\u001b[0m eta \u001b[36m0:00:00\u001b[0m\n",
            "\u001b[2K     \u001b[90m━━━━━━━━━━━━━━━━━━━━━━━━━━━━━━━━━━━━━━━━\u001b[0m \u001b[32m62.7/62.7 kB\u001b[0m \u001b[31m7.7 MB/s\u001b[0m eta \u001b[36m0:00:00\u001b[0m\n",
            "\u001b[?25h"
          ]
        }
      ],
      "source": [
        "!git clone https://github.com/ultralytics/yolov5\n",
        "%cd yolov5\n",
        "%pip install -qr requirements.txt"
      ],
      "id": "final-aside"
    },
    {
      "cell_type": "markdown",
      "metadata": {
        "id": "OI_G2KGtWFa7"
      },
      "source": [
        "Model definition"
      ],
      "id": "OI_G2KGtWFa7"
    },
    {
      "cell_type": "code",
      "execution_count": 4,
      "metadata": {
        "id": "oriented-receiver",
        "colab": {
          "base_uri": "https://localhost:8080/"
        },
        "outputId": "7f7acbcc-e0c0-40c8-9433-b4538f9389bb"
      },
      "outputs": [
        {
          "output_type": "stream",
          "name": "stderr",
          "text": [
            "/usr/local/lib/python3.10/dist-packages/torch/hub.py:286: UserWarning: You are about to download and run code from an untrusted repository. In a future release, this won't be allowed. To add the repository to your trusted list, change the command to {calling_fn}(..., trust_repo=False) and a command prompt will appear asking for an explicit confirmation of trust, or load(..., trust_repo=True), which will assume that the prompt is to be answered with 'yes'. You can also use load(..., trust_repo='check') which will only prompt for confirmation if the repo is not already trusted. This will eventually be the default behaviour\n",
            "  warnings.warn(\n",
            "Downloading: \"https://github.com/ultralytics/yolov5/zipball/master\" to /root/.cache/torch/hub/master.zip\n",
            "YOLOv5 🚀 2023-6-9 Python-3.10.12 torch-2.0.1+cu118 CUDA:0 (Tesla T4, 15102MiB)\n",
            "\n",
            "Fusing layers... \n",
            "YOLOv5s summary: 213 layers, 7225885 parameters, 0 gradients\n",
            "Adding AutoShape... \n",
            "image 1/1: 1125x2000 2 persons, 1 cake, 1 book\n",
            "Speed: 990.9ms pre-process, 70.0ms inference, 34.2ms NMS per image at shape (1, 3, 384, 640)\n"
          ]
        }
      ],
      "source": [
        "# model\n",
        "model = torch.hub.load('ultralytics/yolov5', 'yolov5s', pretrained=True)\n",
        "\n",
        "# path to the main drive folder\n",
        "current_path = os.getcwd()\n",
        "\n",
        "# path to the folder containing the datasets\n",
        "datasets_path = os.path.join(current_path, \"..\", \"datasets\")\n",
        "\n",
        "# path to a sample image\n",
        "image = os.path.join(datasets_path, \"train\", \"real\", \"images\", \"000001.jpg\")\n",
        "\n",
        "# apply the model to the image\n",
        "output_image = model(image)\n",
        "\n",
        "# print the size of the output\n",
        "output_image.print()"
      ],
      "id": "oriented-receiver"
    },
    {
      "cell_type": "markdown",
      "source": [
        "#### Install Comet to get interesting feedbacks"
      ],
      "metadata": {
        "id": "ZxNtJ7DWbD_0"
      },
      "id": "ZxNtJ7DWbD_0"
    },
    {
      "cell_type": "code",
      "source": [
        "#!pip install comet_ml\n",
        "#!export COMET_API_KEY=<Your API Key>"
      ],
      "metadata": {
        "id": "T2lwxcDEbKCs"
      },
      "id": "T2lwxcDEbKCs",
      "execution_count": null,
      "outputs": []
    },
    {
      "cell_type": "markdown",
      "source": [
        "#### Move the $.yaml$ file inside the $yolov5$ folder"
      ],
      "metadata": {
        "id": "UUDgzKvRQads"
      },
      "id": "UUDgzKvRQads"
    },
    {
      "cell_type": "code",
      "source": [
        "# current path is $yolov5 folder\n",
        "current_path = os.getcwd()\n",
        "# name of the file containing training specifications\n",
        "filename = \"custom_yolo.yaml\"\n",
        "# source path of the file\n",
        "file_path = os.path.join(current_path, \"..\", filename)\n",
        "# path to the folder where the file has to be moved\n",
        "dest_path = os.path.join(current_path, filename)\n",
        "# copy the file in $file_path to $dest_path\n",
        "shutil.copy(file_path, dest_path)"
      ],
      "metadata": {
        "colab": {
          "base_uri": "https://localhost:8080/",
          "height": 35
        },
        "id": "8dSxtw4_QlXD",
        "outputId": "a08a63f9-fa3d-4841-93f4-633c5e8e9430"
      },
      "id": "8dSxtw4_QlXD",
      "execution_count": 5,
      "outputs": [
        {
          "output_type": "execute_result",
          "data": {
            "text/plain": [
              "'/content/drive/MyDrive/Colab environments/Risiko! DL/yolov5/custom_yolo.yaml'"
            ],
            "application/vnd.google.colaboratory.intrinsic+json": {
              "type": "string"
            }
          },
          "metadata": {},
          "execution_count": 5
        }
      ]
    },
    {
      "cell_type": "markdown",
      "source": [
        "#### Fine-tuning the model"
      ],
      "metadata": {
        "id": "595OTPFBJjqP"
      },
      "id": "595OTPFBJjqP"
    },
    {
      "cell_type": "code",
      "source": [
        "!python train.py --img 640 --epochs 10 --data custom_yolo.yaml --weights yolov5s.pt"
      ],
      "metadata": {
        "colab": {
          "base_uri": "https://localhost:8080/"
        },
        "id": "e4TzFSp9J0T5",
        "outputId": "15c6c39b-5fc8-40ed-8342-b2e7d9c60eb7"
      },
      "id": "e4TzFSp9J0T5",
      "execution_count": 6,
      "outputs": [
        {
          "output_type": "stream",
          "name": "stdout",
          "text": [
            "\u001b[34m\u001b[1mtrain: \u001b[0mweights=yolov5s.pt, cfg=, data=custom_yolo.yaml, hyp=data/hyps/hyp.scratch-low.yaml, epochs=10, batch_size=16, imgsz=640, rect=False, resume=False, nosave=False, noval=False, noautoanchor=False, noplots=False, evolve=None, bucket=, cache=None, image_weights=False, device=, multi_scale=False, single_cls=False, optimizer=SGD, sync_bn=False, workers=8, project=runs/train, name=exp, exist_ok=False, quad=False, cos_lr=False, label_smoothing=0.0, patience=100, freeze=[0], save_period=-1, seed=0, local_rank=-1, entity=None, upload_dataset=False, bbox_interval=-1, artifact_alias=latest\n",
            "\u001b[34m\u001b[1mgithub: \u001b[0mup to date with https://github.com/ultralytics/yolov5 ✅\n",
            "fatal: cannot change to '/content/drive/MyDrive/Colab': No such file or directory\n",
            "YOLOv5 🚀 2023-6-9 Python-3.10.12 torch-2.0.1+cu118 CUDA:0 (Tesla T4, 15102MiB)\n",
            "\n",
            "\u001b[34m\u001b[1mhyperparameters: \u001b[0mlr0=0.01, lrf=0.01, momentum=0.937, weight_decay=0.0005, warmup_epochs=3.0, warmup_momentum=0.8, warmup_bias_lr=0.1, box=0.05, cls=0.5, cls_pw=1.0, obj=1.0, obj_pw=1.0, iou_t=0.2, anchor_t=4.0, fl_gamma=0.0, hsv_h=0.015, hsv_s=0.7, hsv_v=0.4, degrees=0.0, translate=0.1, scale=0.5, shear=0.0, perspective=0.0, flipud=0.0, fliplr=0.5, mosaic=1.0, mixup=0.0, copy_paste=0.0\n",
            "\u001b[34m\u001b[1mClearML: \u001b[0mrun 'pip install clearml' to automatically track, visualize and remotely train YOLOv5 🚀 in ClearML\n",
            "\u001b[34m\u001b[1mComet: \u001b[0mrun 'pip install comet_ml' to automatically track and visualize YOLOv5 🚀 runs in Comet\n",
            "\u001b[34m\u001b[1mTensorBoard: \u001b[0mStart with 'tensorboard --logdir runs/train', view at http://localhost:6006/\n",
            "Downloading https://ultralytics.com/assets/Arial.ttf to /root/.config/Ultralytics/Arial.ttf...\n",
            "100% 755k/755k [00:00<00:00, 17.7MB/s]\n",
            "Overriding model.yaml nc=80 with nc=12\n",
            "\n",
            "                 from  n    params  module                                  arguments                     \n",
            "  0                -1  1      3520  models.common.Conv                      [3, 32, 6, 2, 2]              \n",
            "  1                -1  1     18560  models.common.Conv                      [32, 64, 3, 2]                \n",
            "  2                -1  1     18816  models.common.C3                        [64, 64, 1]                   \n",
            "  3                -1  1     73984  models.common.Conv                      [64, 128, 3, 2]               \n",
            "  4                -1  2    115712  models.common.C3                        [128, 128, 2]                 \n",
            "  5                -1  1    295424  models.common.Conv                      [128, 256, 3, 2]              \n",
            "  6                -1  3    625152  models.common.C3                        [256, 256, 3]                 \n",
            "  7                -1  1   1180672  models.common.Conv                      [256, 512, 3, 2]              \n",
            "  8                -1  1   1182720  models.common.C3                        [512, 512, 1]                 \n",
            "  9                -1  1    656896  models.common.SPPF                      [512, 512, 5]                 \n",
            " 10                -1  1    131584  models.common.Conv                      [512, 256, 1, 1]              \n",
            " 11                -1  1         0  torch.nn.modules.upsampling.Upsample    [None, 2, 'nearest']          \n",
            " 12           [-1, 6]  1         0  models.common.Concat                    [1]                           \n",
            " 13                -1  1    361984  models.common.C3                        [512, 256, 1, False]          \n",
            " 14                -1  1     33024  models.common.Conv                      [256, 128, 1, 1]              \n",
            " 15                -1  1         0  torch.nn.modules.upsampling.Upsample    [None, 2, 'nearest']          \n",
            " 16           [-1, 4]  1         0  models.common.Concat                    [1]                           \n",
            " 17                -1  1     90880  models.common.C3                        [256, 128, 1, False]          \n",
            " 18                -1  1    147712  models.common.Conv                      [128, 128, 3, 2]              \n",
            " 19          [-1, 14]  1         0  models.common.Concat                    [1]                           \n",
            " 20                -1  1    296448  models.common.C3                        [256, 256, 1, False]          \n",
            " 21                -1  1    590336  models.common.Conv                      [256, 256, 3, 2]              \n",
            " 22          [-1, 10]  1         0  models.common.Concat                    [1]                           \n",
            " 23                -1  1   1182720  models.common.C3                        [512, 512, 1, False]          \n",
            " 24      [17, 20, 23]  1     45849  models.yolo.Detect                      [12, [[10, 13, 16, 30, 33, 23], [30, 61, 62, 45, 59, 119], [116, 90, 156, 198, 373, 326]], [128, 256, 512]]\n",
            "Model summary: 214 layers, 7051993 parameters, 7051993 gradients, 16.0 GFLOPs\n",
            "\n",
            "Transferred 343/349 items from yolov5s.pt\n",
            "\u001b[34m\u001b[1mAMP: \u001b[0mchecks passed ✅\n",
            "\u001b[34m\u001b[1moptimizer:\u001b[0m SGD(lr=0.01) with parameter groups 57 weight(decay=0.0), 60 weight(decay=0.0005), 60 bias\n",
            "\u001b[34m\u001b[1malbumentations: \u001b[0mBlur(p=0.01, blur_limit=(3, 7)), MedianBlur(p=0.01, blur_limit=(3, 7)), ToGray(p=0.01), CLAHE(p=0.01, clip_limit=(1, 4.0), tile_grid_size=(8, 8))\n",
            "\u001b[34m\u001b[1mtrain: \u001b[0mScanning /content/drive/MyDrive/Colab environments/Risiko! DL/datasets/train/synthetic/labels... 126 images, 0 backgrounds, 0 corrupt: 100% 126/126 [00:29<00:00,  4.23it/s]\n",
            "\u001b[34m\u001b[1mtrain: \u001b[0mNew cache created: /content/drive/MyDrive/Colab environments/Risiko! DL/datasets/train/synthetic/labels.cache\n",
            "\u001b[34m\u001b[1mval: \u001b[0mScanning /content/drive/MyDrive/Colab environments/Risiko! DL/datasets/validation/synthetic/labels... 36 images, 0 backgrounds, 0 corrupt: 100% 36/36 [00:19<00:00,  1.83it/s]\n",
            "\u001b[34m\u001b[1mval: \u001b[0mNew cache created: /content/drive/MyDrive/Colab environments/Risiko! DL/datasets/validation/synthetic/labels.cache\n",
            "\n",
            "\u001b[34m\u001b[1mAutoAnchor: \u001b[0m4.60 anchors/target, 1.000 Best Possible Recall (BPR). Current anchors are a good fit to dataset ✅\n",
            "Plotting labels to runs/train/exp3/labels.jpg... \n",
            "Image sizes 640 train, 640 val\n",
            "Using 2 dataloader workers\n",
            "Logging results to \u001b[1mruns/train/exp3\u001b[0m\n",
            "Starting training for 10 epochs...\n",
            "\n",
            "      Epoch    GPU_mem   box_loss   obj_loss   cls_loss  Instances       Size\n",
            "        0/9       3.5G     0.1314      0.198    0.07238       1391        640: 100% 8/8 [00:29<00:00,  3.69s/it]\n",
            "                 Class     Images  Instances          P          R      mAP50   mAP50-95: 100% 2/2 [00:11<00:00,  5.74s/it]\n",
            "                   all         36       1703   0.000243    0.00298   0.000124   1.24e-05\n",
            "\n",
            "      Epoch    GPU_mem   box_loss   obj_loss   cls_loss  Instances       Size\n",
            "        1/9      3.73G      0.127     0.1918    0.07145       1064        640: 100% 8/8 [00:14<00:00,  1.80s/it]\n",
            "                 Class     Images  Instances          P          R      mAP50   mAP50-95: 100% 2/2 [00:01<00:00,  1.15it/s]\n",
            "                   all         36       1703    0.00116    0.00809    0.00061   0.000147\n",
            "\n",
            "      Epoch    GPU_mem   box_loss   obj_loss   cls_loss  Instances       Size\n",
            "        2/9      3.73G     0.1224     0.1779    0.07053       1607        640: 100% 8/8 [00:21<00:00,  2.65s/it]\n",
            "                 Class     Images  Instances          P          R      mAP50   mAP50-95:   0% 0/2 [00:00<?, ?it/s]WARNING ⚠️ NMS time limit 2.100s exceeded\n",
            "                 Class     Images  Instances          P          R      mAP50   mAP50-95: 100% 2/2 [00:03<00:00,  1.52s/it]\n",
            "                   all         36       1703    0.00274    0.00943    0.00139   0.000316\n",
            "\n",
            "      Epoch    GPU_mem   box_loss   obj_loss   cls_loss  Instances       Size\n",
            "        3/9      3.73G      0.118     0.1742    0.06975       1688        640: 100% 8/8 [00:18<00:00,  2.33s/it]\n",
            "                 Class     Images  Instances          P          R      mAP50   mAP50-95:   0% 0/2 [00:00<?, ?it/s]WARNING ⚠️ NMS time limit 2.100s exceeded\n",
            "                 Class     Images  Instances          P          R      mAP50   mAP50-95:  50% 1/2 [00:02<00:02,  2.67s/it]WARNING ⚠️ NMS time limit 0.700s exceeded\n",
            "                 Class     Images  Instances          P          R      mAP50   mAP50-95: 100% 2/2 [00:03<00:00,  1.85s/it]\n",
            "                   all         36       1703    0.00481     0.0032    0.00216   0.000953\n",
            "\n",
            "      Epoch    GPU_mem   box_loss   obj_loss   cls_loss  Instances       Size\n",
            "        4/9      3.73G     0.1101     0.1903    0.06841       1153        640: 100% 8/8 [00:19<00:00,  2.43s/it]\n",
            "                 Class     Images  Instances          P          R      mAP50   mAP50-95:   0% 0/2 [00:00<?, ?it/s]WARNING ⚠️ NMS time limit 2.100s exceeded\n",
            "                 Class     Images  Instances          P          R      mAP50   mAP50-95:  50% 1/2 [00:02<00:02,  2.44s/it]WARNING ⚠️ NMS time limit 0.700s exceeded\n",
            "                 Class     Images  Instances          P          R      mAP50   mAP50-95: 100% 2/2 [00:03<00:00,  1.77s/it]\n",
            "                   all         36       1703     0.0888    0.00708    0.00259   0.000608\n",
            "\n",
            "      Epoch    GPU_mem   box_loss   obj_loss   cls_loss  Instances       Size\n",
            "        5/9      3.73G     0.1032     0.1882    0.06717       1396        640: 100% 8/8 [00:19<00:00,  2.48s/it]\n",
            "                 Class     Images  Instances          P          R      mAP50   mAP50-95:   0% 0/2 [00:00<?, ?it/s]WARNING ⚠️ NMS time limit 2.100s exceeded\n",
            "                 Class     Images  Instances          P          R      mAP50   mAP50-95:  50% 1/2 [00:02<00:02,  2.35s/it]WARNING ⚠️ NMS time limit 0.700s exceeded\n",
            "                 Class     Images  Instances          P          R      mAP50   mAP50-95: 100% 2/2 [00:03<00:00,  1.67s/it]\n",
            "                   all         36       1703      0.175     0.0137    0.00412   0.000979\n",
            "\n",
            "      Epoch    GPU_mem   box_loss   obj_loss   cls_loss  Instances       Size\n",
            "        6/9      3.73G     0.0991     0.1803    0.06583       1315        640: 100% 8/8 [00:17<00:00,  2.23s/it]\n",
            "                 Class     Images  Instances          P          R      mAP50   mAP50-95:   0% 0/2 [00:00<?, ?it/s]WARNING ⚠️ NMS time limit 2.100s exceeded\n",
            "                 Class     Images  Instances          P          R      mAP50   mAP50-95:  50% 1/2 [00:02<00:02,  2.34s/it]WARNING ⚠️ NMS time limit 0.700s exceeded\n",
            "                 Class     Images  Instances          P          R      mAP50   mAP50-95: 100% 2/2 [00:03<00:00,  1.89s/it]\n",
            "                   all         36       1703     0.0947     0.0112     0.0054    0.00172\n",
            "\n",
            "      Epoch    GPU_mem   box_loss   obj_loss   cls_loss  Instances       Size\n",
            "        7/9      3.73G    0.09652     0.1995    0.06528       1095        640: 100% 8/8 [00:19<00:00,  2.41s/it]\n",
            "                 Class     Images  Instances          P          R      mAP50   mAP50-95:   0% 0/2 [00:00<?, ?it/s]WARNING ⚠️ NMS time limit 2.100s exceeded\n",
            "                 Class     Images  Instances          P          R      mAP50   mAP50-95: 100% 2/2 [00:03<00:00,  1.61s/it]\n",
            "                   all         36       1703     0.0121      0.039    0.00729    0.00198\n",
            "\n",
            "      Epoch    GPU_mem   box_loss   obj_loss   cls_loss  Instances       Size\n",
            "        8/9      3.73G    0.09304     0.1961     0.0651       1543        640: 100% 8/8 [00:20<00:00,  2.53s/it]\n",
            "                 Class     Images  Instances          P          R      mAP50   mAP50-95:   0% 0/2 [00:00<?, ?it/s]WARNING ⚠️ NMS time limit 2.100s exceeded\n",
            "                 Class     Images  Instances          P          R      mAP50   mAP50-95: 100% 2/2 [00:03<00:00,  1.57s/it]\n",
            "                   all         36       1703     0.0167     0.0579     0.0103     0.0026\n",
            "\n",
            "      Epoch    GPU_mem   box_loss   obj_loss   cls_loss  Instances       Size\n",
            "        9/9      3.73G    0.08899     0.1927    0.06463        977        640: 100% 8/8 [00:18<00:00,  2.30s/it]\n",
            "                 Class     Images  Instances          P          R      mAP50   mAP50-95:   0% 0/2 [00:00<?, ?it/s]WARNING ⚠️ NMS time limit 2.100s exceeded\n",
            "                 Class     Images  Instances          P          R      mAP50   mAP50-95:  50% 1/2 [00:02<00:02,  2.44s/it]WARNING ⚠️ NMS time limit 0.700s exceeded\n",
            "                 Class     Images  Instances          P          R      mAP50   mAP50-95: 100% 2/2 [00:03<00:00,  1.72s/it]\n",
            "                   all         36       1703       0.19     0.0243     0.0109    0.00269\n",
            "\n",
            "10 epochs completed in 0.071 hours.\n",
            "Optimizer stripped from runs/train/exp3/weights/last.pt, 14.4MB\n",
            "Optimizer stripped from runs/train/exp3/weights/best.pt, 14.4MB\n",
            "\n",
            "Validating runs/train/exp3/weights/best.pt...\n",
            "Fusing layers... \n",
            "Model summary: 157 layers, 7042489 parameters, 0 gradients, 15.9 GFLOPs\n",
            "                 Class     Images  Instances          P          R      mAP50   mAP50-95:   0% 0/2 [00:00<?, ?it/s]WARNING ⚠️ NMS time limit 2.100s exceeded\n",
            "                 Class     Images  Instances          P          R      mAP50   mAP50-95: 100% 2/2 [00:04<00:00,  2.07s/it]\n",
            "                   all         36       1703     0.0201      0.069     0.0128     0.0029\n",
            "             blue_army         36        227     0.0282      0.132     0.0228    0.00635\n",
            "              red_army         36        208     0.0211      0.125     0.0153    0.00337\n",
            "           yellow_army         36        249     0.0268     0.0321     0.0143    0.00334\n",
            "           purple_army         36        247     0.0279      0.146     0.0218    0.00612\n",
            "            black_army         36        232     0.0192      0.129     0.0137    0.00343\n",
            "            green_army         36        222     0.0311     0.0766     0.0193    0.00549\n",
            "             blue_flag         36         63     0.0444     0.0317     0.0236    0.00236\n",
            "              red_flag         36         44     0.0121      0.114    0.00689    0.00121\n",
            "           yellow_flag         36         65          0          0          0          0\n",
            "           purple_flag         36         48     0.0116     0.0208    0.00594    0.00119\n",
            "            black_flag         36         51          0          0          0          0\n",
            "            green_flag         36         47     0.0185     0.0213    0.00955    0.00191\n",
            "Results saved to \u001b[1mruns/train/exp3\u001b[0m\n"
          ]
        }
      ]
    }
  ],
  "metadata": {
    "colab": {
      "provenance": [],
      "gpuType": "T4"
    },
    "kernelspec": {
      "display_name": "Python 3",
      "name": "python3"
    },
    "language_info": {
      "name": "python"
    },
    "accelerator": "GPU"
  },
  "nbformat": 4,
  "nbformat_minor": 5
}